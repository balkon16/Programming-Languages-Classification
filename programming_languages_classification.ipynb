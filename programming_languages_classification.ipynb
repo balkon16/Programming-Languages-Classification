{
 "cells": [
  {
   "cell_type": "code",
   "execution_count": 1,
   "metadata": {},
   "outputs": [
    {
     "data": {
      "text/html": [
       "<script>\n",
       "code_show=true; \n",
       "function code_toggle() {\n",
       " if (code_show){\n",
       " $('div.input').hide();\n",
       " } else {\n",
       " $('div.input').show();\n",
       " }\n",
       " code_show = !code_show\n",
       "} \n",
       "$( document ).ready(code_toggle);\n",
       "</script> In order to make this notebook more readable I decided to enable the option of toggling on/off\n",
       "cells with code. Click\n",
       "<a href=\"javascript:code_toggle()\">here</a> to test it."
      ],
      "text/plain": [
       "<IPython.core.display.HTML object>"
      ]
     },
     "execution_count": 1,
     "metadata": {},
     "output_type": "execute_result"
    }
   ],
   "source": [
    "from IPython.display import HTML\n",
    "from IPython.display import Markdown\n",
    "\n",
    "HTML('''<script>\n",
    "code_show=true; \n",
    "function code_toggle() {\n",
    " if (code_show){\n",
    " $('div.input').hide();\n",
    " } else {\n",
    " $('div.input').show();\n",
    " }\n",
    " code_show = !code_show\n",
    "} \n",
    "$( document ).ready(code_toggle);\n",
    "</script> In order to make this notebook more readable I decided to enable the option of toggling on/off\n",
    "cells with code. Click\n",
    "<a href=\"javascript:code_toggle()\">here</a> to test it.''')\n",
    "\n",
    "#code snippet taken from https://stackoverflow.com/questions/27934885/how-to-hide-code-from-cells-in-ipython-notebook-visualized-with-nbviewer"
   ]
  },
  {
   "cell_type": "markdown",
   "metadata": {},
   "source": [
    "### Replicating the notebook"
   ]
  },
  {
   "cell_type": "markdown",
   "metadata": {},
   "source": [
    "In order to work in the same environment that the notebook was created in please use virtual environment. Steps are as follow:\n",
    "\n",
    "1) Create a Python virtual environment by `$ python -m venv virtual_environment_name` (if you are using Python 2.7 or lower as the default OS Python please use `$ python3 -m venv virtual_environment_name`.\n",
    "\n",
    "2) While in the project's directory `$ source virtual_environment_name/bin/activate`. Now all the lines in the terminal start with `(virtual_environment_name)`.\n",
    "\n",
    "3) Install `jupyter` and/or `jupyterlab` by `$ pip install jupyter jupyterlab`.\n",
    "\n",
    "4) While in the notebook run the cell below in order to install necessary libraries."
   ]
  },
  {
   "cell_type": "code",
   "execution_count": 2,
   "metadata": {},
   "outputs": [
    {
     "name": "stdout",
     "output_type": "stream",
     "text": [
      "Requirement already satisfied: altair==2.3.0 in /home/pawel/anaconda3/lib/python3.6/site-packages (from -r requirements.txt (line 1)) (2.3.0)\n",
      "Requirement already satisfied: bs4==0.0.1 in /home/pawel/anaconda3/lib/python3.6/site-packages (from -r requirements.txt (line 2)) (0.0.1)\n",
      "Requirement already satisfied: sklearn-pandas==1.7.0 in /home/pawel/.local/lib/python3.6/site-packages (from -r requirements.txt (line 3)) (1.7.0)\n",
      "Requirement already satisfied: nltk==3.3 in /home/pawel/anaconda3/lib/python3.6/site-packages (from -r requirements.txt (line 4)) (3.3)\n",
      "Requirement already satisfied: numpy==1.15.1 in /home/pawel/.local/lib/python3.6/site-packages (from -r requirements.txt (line 5)) (1.15.1)\n",
      "Requirement already satisfied: matplotlib==3.0.0 in /home/pawel/.local/lib/python3.6/site-packages (from -r requirements.txt (line 6)) (3.0.0)\n",
      "Requirement already satisfied: seaborn==0.9.0 in /home/pawel/.local/lib/python3.6/site-packages (from -r requirements.txt (line 7)) (0.9.0)\n",
      "Requirement already satisfied: entrypoints in /home/pawel/.local/lib/python3.6/site-packages (from altair==2.3.0->-r requirements.txt (line 1)) (0.2.3)\n",
      "Requirement already satisfied: jinja2 in /home/pawel/.local/lib/python3.6/site-packages (from altair==2.3.0->-r requirements.txt (line 1)) (2.10)\n",
      "Requirement already satisfied: toolz in /home/pawel/anaconda3/lib/python3.6/site-packages (from altair==2.3.0->-r requirements.txt (line 1)) (0.9.0)\n",
      "Requirement already satisfied: jsonschema in /home/pawel/.local/lib/python3.6/site-packages (from altair==2.3.0->-r requirements.txt (line 1)) (2.6.0)\n",
      "Requirement already satisfied: pandas in /home/pawel/.local/lib/python3.6/site-packages (from altair==2.3.0->-r requirements.txt (line 1)) (0.23.4)\n",
      "Requirement already satisfied: six in /home/pawel/.local/lib/python3.6/site-packages (from altair==2.3.0->-r requirements.txt (line 1)) (1.11.0)\n",
      "Requirement already satisfied: beautifulsoup4 in /home/pawel/anaconda3/lib/python3.6/site-packages (from bs4==0.0.1->-r requirements.txt (line 2)) (4.6.3)\n",
      "Requirement already satisfied: scipy>=0.14 in /home/pawel/.local/lib/python3.6/site-packages (from sklearn-pandas==1.7.0->-r requirements.txt (line 3)) (1.1.0)\n",
      "Requirement already satisfied: scikit-learn>=0.15.0 in /home/pawel/.local/lib/python3.6/site-packages (from sklearn-pandas==1.7.0->-r requirements.txt (line 3)) (0.19.2)\n",
      "Requirement already satisfied: python-dateutil>=2.1 in /home/pawel/.local/lib/python3.6/site-packages (from matplotlib==3.0.0->-r requirements.txt (line 6)) (2.7.3)\n",
      "Requirement already satisfied: pyparsing!=2.0.4,!=2.1.2,!=2.1.6,>=2.0.1 in /home/pawel/.local/lib/python3.6/site-packages (from matplotlib==3.0.0->-r requirements.txt (line 6)) (2.2.1)\n",
      "Requirement already satisfied: kiwisolver>=1.0.1 in /home/pawel/.local/lib/python3.6/site-packages (from matplotlib==3.0.0->-r requirements.txt (line 6)) (1.0.1)\n",
      "Requirement already satisfied: cycler>=0.10 in /home/pawel/.local/lib/python3.6/site-packages (from matplotlib==3.0.0->-r requirements.txt (line 6)) (0.10.0)\n",
      "Requirement already satisfied: MarkupSafe>=0.23 in /home/pawel/.local/lib/python3.6/site-packages (from jinja2->altair==2.3.0->-r requirements.txt (line 1)) (1.1.0)\n",
      "Requirement already satisfied: pytz>=2011k in /home/pawel/.local/lib/python3.6/site-packages (from pandas->altair==2.3.0->-r requirements.txt (line 1)) (2018.5)\n",
      "Requirement already satisfied: setuptools in /home/pawel/.local/lib/python3.6/site-packages (from kiwisolver>=1.0.1->matplotlib==3.0.0->-r requirements.txt (line 6)) (40.4.2)\n",
      "\u001b[31mfastai 0.7.0 has requirement torch<0.4, but you'll have torch 1.0.0 which is incompatible.\u001b[0m\n",
      "\u001b[33mYou are using pip version 10.0.1, however version 18.1 is available.\n",
      "You should consider upgrading via the 'pip install --upgrade pip' command.\u001b[0m\n"
     ]
    }
   ],
   "source": [
    "!pip install -r requirements.txt"
   ]
  },
  {
   "cell_type": "markdown",
   "metadata": {},
   "source": [
    "In this Jupyter notebook I will try to explore the dataset containing programming languages code snippets. The task at hand is to <br><p style=\"text-align:center;font-weight: bold\">classify programming languages based on the code.</p><br> Let's start with loading the *.csv* file."
   ]
  },
  {
   "cell_type": "markdown",
   "metadata": {},
   "source": [
    "## Data loading"
   ]
  },
  {
   "cell_type": "markdown",
   "metadata": {},
   "source": [
    "The data is located in the same directory as the notebook that I'm currently using:"
   ]
  },
  {
   "cell_type": "code",
   "execution_count": 3,
   "metadata": {},
   "outputs": [
    {
     "name": "stdout",
     "output_type": "stream",
     "text": [
      "data.csv\n"
     ]
    }
   ],
   "source": [
    "!ls | grep *.csv"
   ]
  },
  {
   "cell_type": "markdown",
   "metadata": {},
   "source": [
    "In order to read the data I will use *pandas* library:"
   ]
  },
  {
   "cell_type": "code",
   "execution_count": 4,
   "metadata": {},
   "outputs": [
    {
     "data": {
      "text/plain": [
       "'0.23.4'"
      ]
     },
     "execution_count": 4,
     "metadata": {},
     "output_type": "execute_result"
    }
   ],
   "source": [
    "import pandas as pd\n",
    "pd.__version__"
   ]
  },
  {
   "cell_type": "markdown",
   "metadata": {},
   "source": [
    "By inspecting the file in a spreadsheet application I know that the rows (observations) I'm interested in are preceded by a header row naming the variables I'll be using in my model."
   ]
  },
  {
   "cell_type": "code",
   "execution_count": 5,
   "metadata": {},
   "outputs": [
    {
     "data": {
      "text/html": [
       "<div>\n",
       "<style scoped>\n",
       "    .dataframe tbody tr th:only-of-type {\n",
       "        vertical-align: middle;\n",
       "    }\n",
       "\n",
       "    .dataframe tbody tr th {\n",
       "        vertical-align: top;\n",
       "    }\n",
       "\n",
       "    .dataframe thead th {\n",
       "        text-align: right;\n",
       "    }\n",
       "</style>\n",
       "<table border=\"1\" class=\"dataframe\">\n",
       "  <thead>\n",
       "    <tr style=\"text-align: right;\">\n",
       "      <th></th>\n",
       "      <th>language</th>\n",
       "      <th>proj_id</th>\n",
       "      <th>file_id</th>\n",
       "      <th>file_body</th>\n",
       "    </tr>\n",
       "  </thead>\n",
       "  <tbody>\n",
       "    <tr>\n",
       "      <th>0</th>\n",
       "      <td>JavaScript</td>\n",
       "      <td>10001</td>\n",
       "      <td>100001</td>\n",
       "      <td>// Functions as values of a variable\\nvar cube...</td>\n",
       "    </tr>\n",
       "    <tr>\n",
       "      <th>1</th>\n",
       "      <td>JavaScript</td>\n",
       "      <td>10001</td>\n",
       "      <td>100002</td>\n",
       "      <td>// Functions as values of a variable\\nvar cube...</td>\n",
       "    </tr>\n",
       "    <tr>\n",
       "      <th>2</th>\n",
       "      <td>JavaScript</td>\n",
       "      <td>10002</td>\n",
       "      <td>100003</td>\n",
       "      <td>function median(ary) {\\n    if (ary.length == ...</td>\n",
       "    </tr>\n",
       "    <tr>\n",
       "      <th>3</th>\n",
       "      <td>JavaScript</td>\n",
       "      <td>10002</td>\n",
       "      <td>100004</td>\n",
       "      <td>[\\n  null,\\n  4,\\n  3.5,\\n  2.1\\n]\\n</td>\n",
       "    </tr>\n",
       "    <tr>\n",
       "      <th>4</th>\n",
       "      <td>JavaScript</td>\n",
       "      <td>10002</td>\n",
       "      <td>100005</td>\n",
       "      <td>(() =&gt; {\\n    'use strict';\\n\\n    // median :...</td>\n",
       "    </tr>\n",
       "  </tbody>\n",
       "</table>\n",
       "</div>"
      ],
      "text/plain": [
       "     language  proj_id  file_id  \\\n",
       "0  JavaScript    10001   100001   \n",
       "1  JavaScript    10001   100002   \n",
       "2  JavaScript    10002   100003   \n",
       "3  JavaScript    10002   100004   \n",
       "4  JavaScript    10002   100005   \n",
       "\n",
       "                                           file_body  \n",
       "0  // Functions as values of a variable\\nvar cube...  \n",
       "1  // Functions as values of a variable\\nvar cube...  \n",
       "2  function median(ary) {\\n    if (ary.length == ...  \n",
       "3               [\\n  null,\\n  4,\\n  3.5,\\n  2.1\\n]\\n  \n",
       "4  (() => {\\n    'use strict';\\n\\n    // median :...  "
      ]
     },
     "execution_count": 5,
     "metadata": {},
     "output_type": "execute_result"
    }
   ],
   "source": [
    "data = pd.read_csv(\"data.csv\")\n",
    "data.head()"
   ]
  },
  {
   "cell_type": "code",
   "execution_count": 6,
   "metadata": {},
   "outputs": [
    {
     "data": {
      "text/markdown": [
       "The data provided has 16272 rows and 4 columns."
      ],
      "text/plain": [
       "<IPython.core.display.Markdown object>"
      ]
     },
     "execution_count": 6,
     "metadata": {},
     "output_type": "execute_result"
    }
   ],
   "source": [
    "Markdown(f\"\"\"The data provided has {data.shape[0]} rows and {data.shape[1]} columns.\"\"\")"
   ]
  },
  {
   "cell_type": "markdown",
   "metadata": {},
   "source": [
    "## Exploratory data analysis \n",
    "Having loaded the data, we can move to exploratory data analysis that will provide us with an insight into the data and give us ideas as to how proceed next."
   ]
  },
  {
   "cell_type": "markdown",
   "metadata": {},
   "source": [
    "### Missing data"
   ]
  },
  {
   "cell_type": "markdown",
   "metadata": {},
   "source": [
    "The vital step of EDA is checking whether there are any missing values and if so, what is their nature. It turns out that there is at least one cell in the data that is `NaN`:"
   ]
  },
  {
   "cell_type": "code",
   "execution_count": 7,
   "metadata": {},
   "outputs": [
    {
     "data": {
      "text/plain": [
       "True"
      ]
     },
     "execution_count": 7,
     "metadata": {},
     "output_type": "execute_result"
    }
   ],
   "source": [
    "data.isnull().any().any()"
   ]
  },
  {
   "cell_type": "markdown",
   "metadata": {},
   "source": [
    "The column `file_body` contains missing value(s):"
   ]
  },
  {
   "cell_type": "code",
   "execution_count": 8,
   "metadata": {},
   "outputs": [
    {
     "data": {
      "text/plain": [
       "language     False\n",
       "proj_id      False\n",
       "file_id      False\n",
       "file_body     True\n",
       "dtype: bool"
      ]
     },
     "execution_count": 8,
     "metadata": {},
     "output_type": "execute_result"
    }
   ],
   "source": [
    "data.isnull().any()"
   ]
  },
  {
   "cell_type": "code",
   "execution_count": 9,
   "metadata": {},
   "outputs": [
    {
     "data": {
      "text/markdown": [
       "The count of missing values is 4."
      ],
      "text/plain": [
       "<IPython.core.display.Markdown object>"
      ]
     },
     "execution_count": 9,
     "metadata": {},
     "output_type": "execute_result"
    }
   ],
   "source": [
    "Markdown(f\"\"\"The count of missing values is {data.isnull().sum()['file_body']}.\"\"\")"
   ]
  },
  {
   "cell_type": "markdown",
   "metadata": {},
   "source": [
    "Let's retrieve the rows that has no value in `file_body`:"
   ]
  },
  {
   "cell_type": "code",
   "execution_count": 10,
   "metadata": {},
   "outputs": [
    {
     "data": {
      "text/html": [
       "<div>\n",
       "<style scoped>\n",
       "    .dataframe tbody tr th:only-of-type {\n",
       "        vertical-align: middle;\n",
       "    }\n",
       "\n",
       "    .dataframe tbody tr th {\n",
       "        vertical-align: top;\n",
       "    }\n",
       "\n",
       "    .dataframe thead th {\n",
       "        text-align: right;\n",
       "    }\n",
       "</style>\n",
       "<table border=\"1\" class=\"dataframe\">\n",
       "  <thead>\n",
       "    <tr style=\"text-align: right;\">\n",
       "      <th></th>\n",
       "      <th>language</th>\n",
       "      <th>proj_id</th>\n",
       "      <th>file_id</th>\n",
       "      <th>file_body</th>\n",
       "    </tr>\n",
       "  </thead>\n",
       "  <tbody>\n",
       "    <tr>\n",
       "      <th>1163</th>\n",
       "      <td>Swift</td>\n",
       "      <td>10518</td>\n",
       "      <td>101164</td>\n",
       "      <td>NaN</td>\n",
       "    </tr>\n",
       "    <tr>\n",
       "      <th>9951</th>\n",
       "      <td>Mathematica</td>\n",
       "      <td>15938</td>\n",
       "      <td>109952</td>\n",
       "      <td>NaN</td>\n",
       "    </tr>\n",
       "    <tr>\n",
       "      <th>12227</th>\n",
       "      <td>Julia</td>\n",
       "      <td>17632</td>\n",
       "      <td>112228</td>\n",
       "      <td>NaN</td>\n",
       "    </tr>\n",
       "    <tr>\n",
       "      <th>15290</th>\n",
       "      <td>Perl</td>\n",
       "      <td>19446</td>\n",
       "      <td>115291</td>\n",
       "      <td>NaN</td>\n",
       "    </tr>\n",
       "  </tbody>\n",
       "</table>\n",
       "</div>"
      ],
      "text/plain": [
       "          language  proj_id  file_id file_body\n",
       "1163         Swift    10518   101164       NaN\n",
       "9951   Mathematica    15938   109952       NaN\n",
       "12227        Julia    17632   112228       NaN\n",
       "15290         Perl    19446   115291       NaN"
      ]
     },
     "execution_count": 10,
     "metadata": {},
     "output_type": "execute_result"
    }
   ],
   "source": [
    "data[data.isnull().any(axis=1)]"
   ]
  },
  {
   "cell_type": "code",
   "execution_count": 11,
   "metadata": {},
   "outputs": [
    {
     "data": {
      "text/plain": [
       "array([ 1163,  9951, 12227, 15290])"
      ]
     },
     "execution_count": 11,
     "metadata": {},
     "output_type": "execute_result"
    }
   ],
   "source": [
    "data[data.isnull().any(axis=1)].index.values"
   ]
  },
  {
   "cell_type": "code",
   "execution_count": 12,
   "metadata": {},
   "outputs": [
    {
     "data": {
      "text/markdown": [
       "Given that only 4 out of  16272 rows are missing \n",
       "         we can delete the rows with `file_body` as `NaN`."
      ],
      "text/plain": [
       "<IPython.core.display.Markdown object>"
      ]
     },
     "execution_count": 12,
     "metadata": {},
     "output_type": "execute_result"
    }
   ],
   "source": [
    "Markdown(f\"\"\"Given that only {data.isnull().sum()['file_body']} out of  {data.shape[0]} rows are missing \n",
    "         we can delete the rows with `file_body` as `NaN`.\"\"\")"
   ]
  },
  {
   "cell_type": "markdown",
   "metadata": {},
   "source": [
    "There's a trade-off between \"not-hardcoding\" and \"having spaghetti code\". What's the following one-liner does is:\n",
    "<ol>\n",
    "    <li>Get the data (row-wise) that is missing by: \n",
    "        <span style=\"background-color: #eff0f1\">data[data.isnull().any(axis=1)]</span></li>\n",
    "    <li>Retrieve indices of the rows that contain missing values by adding\n",
    "        <span style=\"background-color: #eff0f1\"> .index.values </span> to the former.</li>\n",
    "    <li>As we have the row numbers we can filter the orignal data by calling \n",
    "        <span style=\"background-color: #eff0f1\">data.index()</span> with those numbers.</li>\n",
    "    <li>Finally we use \n",
    "        <span style=\"background-color: #eff0f1\">data.drop() </span>, calling it with an argument \n",
    "            point 3 and save the new data to the already initialized  \n",
    "        <span style=\"background-color: #eff0f1\">data</span> variable.</li>\n",
    "</ol>"
   ]
  },
  {
   "cell_type": "code",
   "execution_count": 13,
   "metadata": {},
   "outputs": [],
   "source": [
    "data = data.drop(data.index[data[data.isnull().any(axis=1)].index.values])"
   ]
  },
  {
   "cell_type": "markdown",
   "metadata": {},
   "source": [
    "### Insights & angles"
   ]
  },
  {
   "cell_type": "markdown",
   "metadata": {},
   "source": [
    "How many languages are represented? Are there any that are over(/under)represented? What is the length of code chunks associated with those languages? In this section we answer these and similar questions."
   ]
  },
  {
   "cell_type": "markdown",
   "metadata": {},
   "source": [
    "These are the languages that we will be classifying:"
   ]
  },
  {
   "cell_type": "code",
   "execution_count": 14,
   "metadata": {},
   "outputs": [
    {
     "data": {
      "text/plain": [
       "array(['JavaScript', 'Swift', 'Python', 'Java', 'C++', 'Ruby', 'Rust',\n",
       "       'C', 'Scala', 'R', 'Go', 'Mathematica', 'Kotlin', 'Fortran',\n",
       "       'Julia', 'PHP', 'MATLAB', 'Haskell', 'Perl'], dtype=object)"
      ]
     },
     "execution_count": 14,
     "metadata": {},
     "output_type": "execute_result"
    }
   ],
   "source": [
    "data['language'].unique()"
   ]
  },
  {
   "cell_type": "code",
   "execution_count": 15,
   "metadata": {},
   "outputs": [
    {
     "data": {
      "text/markdown": [
       "There are 19 of them."
      ],
      "text/plain": [
       "<IPython.core.display.Markdown object>"
      ]
     },
     "execution_count": 15,
     "metadata": {},
     "output_type": "execute_result"
    }
   ],
   "source": [
    "Markdown(f\"\"\"There are {len(data['language'].unique())} of them.\"\"\")"
   ]
  },
  {
   "cell_type": "markdown",
   "metadata": {},
   "source": [
    "Let's look at the distribution of documents written in a particular language:"
   ]
  },
  {
   "cell_type": "code",
   "execution_count": 16,
   "metadata": {},
   "outputs": [
    {
     "data": {
      "text/plain": [
       "language\n",
       "Python         1452\n",
       "Haskell        1333\n",
       "Perl           1135\n",
       "Ruby           1104\n",
       "JavaScript     1104\n",
       "C              1078\n",
       "Go              998\n",
       "Java            987\n",
       "Mathematica     926\n",
       "C++             880\n",
       "Scala           802\n",
       "Fortran         745\n",
       "Kotlin          643\n",
       "Julia           637\n",
       "R               603\n",
       "MATLAB          544\n",
       "PHP             477\n",
       "Rust            417\n",
       "Swift           403\n",
       "Name: language, dtype: int64"
      ]
     },
     "execution_count": 16,
     "metadata": {},
     "output_type": "execute_result"
    }
   ],
   "source": [
    "dist_lang = data.groupby(['language'])['language'].count().sort_values(ascending=False)\n",
    "dist_lang"
   ]
  },
  {
   "cell_type": "code",
   "execution_count": 17,
   "metadata": {},
   "outputs": [
    {
     "data": {
      "text/markdown": [
       "The top three are <b>Python, Haskell, Perl</b> while the least popular\n",
       "         in the file are <b>PHP, Rust, Swift</b>."
      ],
      "text/plain": [
       "<IPython.core.display.Markdown object>"
      ]
     },
     "execution_count": 17,
     "metadata": {},
     "output_type": "execute_result"
    }
   ],
   "source": [
    "Markdown(f\"\"\"The top three are <b>{\", \".join(dist_lang.index.values[:3])}</b> while the least popular\n",
    "         in the file are <b>{\", \".join(dist_lang.index.values[-3:])}</b>.\"\"\")"
   ]
  },
  {
   "cell_type": "markdown",
   "metadata": {},
   "source": [
    "For the visualisation purposes I'll be using `altair` library that is useful in a sense that it employs declarative approach (also used in R's ggplot2) which is in contrast to an imperative one used in `matplotlib`. "
   ]
  },
  {
   "cell_type": "code",
   "execution_count": 18,
   "metadata": {},
   "outputs": [
    {
     "data": {
      "text/plain": [
       "'2.3.0'"
      ]
     },
     "execution_count": 18,
     "metadata": {},
     "output_type": "execute_result"
    }
   ],
   "source": [
    "import altair as alt\n",
    "alt.__version__"
   ]
  },
  {
   "cell_type": "markdown",
   "metadata": {},
   "source": [
    "In order to use `altair` with `pandas` we need to have a dataframe containing the count information. You can notice there is some redundancy in the `dist_lang_df` (index of the dataframe is virtually the same as the `\"language\"` column) but it's needed in order to correctly graph with `altair`:"
   ]
  },
  {
   "cell_type": "code",
   "execution_count": 19,
   "metadata": {},
   "outputs": [
    {
     "data": {
      "application/vnd.vegalite.v2+json": {
       "$schema": "https://vega.github.io/schema/vega-lite/v2.6.0.json",
       "config": {
        "view": {
         "height": 300,
         "width": 400
        }
       },
       "data": {
        "name": "data-6c6ec18fee732bfbe918da73484b27db"
       },
       "datasets": {
        "data-6c6ec18fee732bfbe918da73484b27db": [
         {
          "counts": 1452,
          "language": "Python"
         },
         {
          "counts": 1333,
          "language": "Haskell"
         },
         {
          "counts": 1135,
          "language": "Perl"
         },
         {
          "counts": 1104,
          "language": "Ruby"
         },
         {
          "counts": 1104,
          "language": "JavaScript"
         },
         {
          "counts": 1078,
          "language": "C"
         },
         {
          "counts": 998,
          "language": "Go"
         },
         {
          "counts": 987,
          "language": "Java"
         },
         {
          "counts": 926,
          "language": "Mathematica"
         },
         {
          "counts": 880,
          "language": "C++"
         },
         {
          "counts": 802,
          "language": "Scala"
         },
         {
          "counts": 745,
          "language": "Fortran"
         },
         {
          "counts": 643,
          "language": "Kotlin"
         },
         {
          "counts": 637,
          "language": "Julia"
         },
         {
          "counts": 603,
          "language": "R"
         },
         {
          "counts": 544,
          "language": "MATLAB"
         },
         {
          "counts": 477,
          "language": "PHP"
         },
         {
          "counts": 417,
          "language": "Rust"
         },
         {
          "counts": 403,
          "language": "Swift"
         }
        ]
       },
       "encoding": {
        "x": {
         "field": "language",
         "type": "nominal"
        },
        "y": {
         "field": "counts",
         "type": "quantitative"
        }
       },
       "mark": "bar"
      },
      "image/png": "[encoded data removed]",
      "text/plain": [
       "<VegaLite 2 object>\n",
       "\n",
       "If you see this message, it means the renderer has not been properly enabled\n",
       "for the frontend that you are using. For more information, see\n",
       "https://altair-viz.github.io/user_guide/troubleshooting.html\n"
      ]
     },
     "execution_count": 19,
     "metadata": {},
     "output_type": "execute_result"
    }
   ],
   "source": [
    "dist_lang_df = pd.DataFrame({\"language\": dist_lang.index.values,\n",
    "                            \"counts\": dist_lang})\n",
    "\n",
    "alt.Chart(dist_lang_df).mark_bar().encode(\n",
    "    alt.X(\"language:N\"),\n",
    "    alt.Y(\"counts\")\n",
    ")"
   ]
  },
  {
   "cell_type": "markdown",
   "metadata": {},
   "source": [
    "The bar charts present the count information based on the number of files containing a particular language's syntax. What is the count of file's associated with each project?"
   ]
  },
  {
   "cell_type": "code",
   "execution_count": 20,
   "metadata": {},
   "outputs": [],
   "source": [
    "lang_project = data.groupby(['proj_id', 'language'])['file_body'].count().sort_values(ascending=False)"
   ]
  },
  {
   "cell_type": "code",
   "execution_count": 21,
   "metadata": {},
   "outputs": [
    {
     "data": {
      "text/markdown": [
       "There are 10006 distinct projects in total. Given the fact that we've\n",
       "deleted files that had no entry in `file_body` column the smallest number-of-file-wise that a project \n",
       "can have is 1 and it is the case:"
      ],
      "text/plain": [
       "<IPython.core.display.Markdown object>"
      ]
     },
     "execution_count": 21,
     "metadata": {},
     "output_type": "execute_result"
    }
   ],
   "source": [
    "Markdown(f\"\"\"There are {len(lang_project)} distinct projects in total. Given the fact that we've\n",
    "deleted files that had no entry in `file_body` column the smallest number-of-file-wise that a project \n",
    "can have is 1 and it is the case:\"\"\")"
   ]
  },
  {
   "cell_type": "code",
   "execution_count": 22,
   "metadata": {},
   "outputs": [
    {
     "data": {
      "text/plain": [
       "proj_id  language   \n",
       "16104    Mathematica    1\n",
       "16105    Mathematica    1\n",
       "16106    Mathematica    1\n",
       "16108    Mathematica    1\n",
       "15004    R              1\n",
       "Name: file_body, dtype: int64"
      ]
     },
     "execution_count": 22,
     "metadata": {},
     "output_type": "execute_result"
    }
   ],
   "source": [
    "lang_project.tail()"
   ]
  },
  {
   "cell_type": "markdown",
   "metadata": {},
   "source": [
    "The largest projects are as follows:"
   ]
  },
  {
   "cell_type": "code",
   "execution_count": 23,
   "metadata": {},
   "outputs": [
    {
     "data": {
      "text/plain": [
       "proj_id  language\n",
       "17404    Fortran     41\n",
       "19276    Haskell     19\n",
       "10888    Python      15\n",
       "18932    Haskell     14\n",
       "11158    Python      14\n",
       "Name: file_body, dtype: int64"
      ]
     },
     "execution_count": 23,
     "metadata": {},
     "output_type": "execute_result"
    }
   ],
   "source": [
    "lang_project.head()"
   ]
  },
  {
   "cell_type": "markdown",
   "metadata": {},
   "source": [
    "Let's turn our attention to actual code snippets provided in the dataset. How are files of particular languages structured? The following dataframe lists one example of each language. Iterating the dataframe gives us:"
   ]
  },
  {
   "cell_type": "code",
   "execution_count": 24,
   "metadata": {},
   "outputs": [
    {
     "name": "stdout",
     "output_type": "stream",
     "text": [
      "\u001b[1mJavaScript\u001b[0m\n",
      "\n",
      "// Functions as values of a variable\n",
      "var cube = x => Math.pow(x, 3);\n",
      "\n",
      "var cuberoot = x => Math.pow(x, 1 / 3);\n",
      "\n",
      "\n",
      "// Higher order function\n",
      "var compose = (f, g) => (x => f(g(x)));\n",
      "\n",
      "// Storing functions in a array\n",
      "var fun = [ Math.sin, Math.cos, cube ];\n",
      "var inv = [ Math.asin, Math.acos, cuberoot ];\n",
      "\n",
      "for (var i = 0; i < 3; i++) {\n",
      "  // Applying the composition to 0.5\n",
      "  console.log(compose(inv[i], fun[i])(0.5));\n",
      "}\n",
      "\n",
      "-----------------------------------------------------\n",
      "\n",
      "\u001b[1mSwift\u001b[0m\n",
      "\n",
      "import Darwin\n",
      "func compose<A,B,C>(f: (B) -> C, g: (A) -> B) -> (A) -> C {\n",
      "  return { f(g($0)) }\n",
      "}\n",
      "let funclist = [ { (x: Double) in sin(x) }, { (x: Double) in cos(x) }, { (x: Double) in pow(x, 3) } ]\n",
      "let funclisti = [ { (x: Double) in asin(x) }, { (x: Double) in acos(x) }, { (x: Double) in cbrt(x) } ]\n",
      "println(map(zip(funclist, funclisti)) { f, inversef in compose(f, inversef)(0.5) })\n",
      "\n",
      "-----------------------------------------------------\n",
      "\n",
      "\u001b[1mPython\u001b[0m\n",
      "\n",
      ">>> # Some built in functions and their inverses\n",
      ">>> from math import sin, cos, acos, asin\n",
      ">>> # Add a user defined function and its inverse\n",
      ">>> cube = lambda x: x * x * x\n",
      ">>> croot = lambda x: x ** (1/3.0)\n",
      ">>> # First class functions allow run-time creation of functions from functions\n",
      ">>> # return function compose(f,g)(x) == f(g(x))\n",
      ">>> compose = lambda f1, f2: ( lambda x: f1(f2(x)) )\n",
      ">>> # first class functions should be able to be members of collection types\n",
      ">>> funclist = [sin, cos, cube]\n",
      ">>> funclisti = [asin, acos, croot]\n",
      ">>> # Apply functions from lists as easily as integers\n",
      ">>> [compose(inversef, f)(.5) for f, inversef in zip(funclist, funclisti)]\n",
      "[0.5, 0.4999999999999999, 0.5]\n",
      ">>>\n",
      "\n",
      "-----------------------------------------------------\n",
      "\n",
      "\u001b[1mJava\u001b[0m\n",
      "\n",
      "import java.util.ArrayList;\n",
      "import java.util.function.Function;\n",
      "\n",
      "public class FirstClass{\n",
      "\t\n",
      "\tpublic static void main(String... arguments){\n",
      "\t\tArrayList<Function<Double, Double>> functions = new ArrayList<>();\n",
      "\t\t\n",
      "\t\tfunctions.add(Math::cos);\n",
      "\t\tfunctions.add(Math::tan);\n",
      "\t\tfunctions.add(x -> x * x);\n",
      "\t\t\n",
      "\t\tArrayList<Function<Double, Double>> inverse = new ArrayList<>();\n",
      "\t\t\n",
      "\t\tinverse.add(Math::acos);\n",
      "\t\tinverse.add(Math::atan);\n",
      "\t\tinverse.add(Math::sqrt);\n",
      "\t\tSystem.out.println(\"Compositions:\");\n",
      "\t\tfor (int i = 0; i < functions.size(); i++){\n",
      "\t\t\tSystem.out.println(functions.get(i).compose(inverse.get(i)).apply(0.5));\n",
      "\t\t}\n",
      "\t\tSystem.out.println(\"Hard-coded compositions:\");\n",
      "\t\tSystem.out.println(Math.cos(Math.acos(0.5)));\n",
      "\t\tSystem.out.println(Math.tan(Math.atan(0.5)));\n",
      "\t\tSystem.out.println(Math.pow(Math.sqrt(0.5), 2));\n",
      "\t}\n",
      "}\n",
      "\n",
      "-----------------------------------------------------\n",
      "\n",
      "\u001b[1mC++\u001b[0m\n",
      "\n",
      "#include <functional>\n",
      "#include <algorithm>\n",
      "#include <iostream>\n",
      "#include <vector>\n",
      "#include <cmath>\n",
      "\n",
      "using std::cout;\n",
      "using std::endl;\n",
      "using std::vector;\n",
      "using std::function;\n",
      "using std::transform;\n",
      "using std::back_inserter;\n",
      "\n",
      "typedef function<double(double)> FunType;\n",
      "\n",
      "vector<FunType> A = {sin, cos, tan, [](double x) { return x*x*x; } };\n",
      "vector<FunType> B = {asin, acos, atan, [](double x) { return exp(log(x)/3); } };\n",
      "\n",
      "template <typename A, typename B, typename C>\n",
      "function<C(A)> compose(function<C(B)> f, function<B(A)> g) {\n",
      "    return [f,g](A x) { return f(g(x)); };\n",
      "}\n",
      "\n",
      "int main() {\n",
      "    vector<FunType> composedFuns;\n",
      "    auto exNums = {0.0, 0.2, 0.4, 0.6, 0.8, 1.0};\n",
      "\n",
      "    transform(B.begin(), B.end(),\n",
      "                A.begin(),\n",
      "                back_inserter(composedFuns),\n",
      "                compose<double, double, double>);\n",
      "\n",
      "    for (auto num: exNums)\n",
      "        for (auto fun: composedFuns)\n",
      "            cout << u8\"f\\u207B\\u00B9.f(\" << num << \") = \" << fun(num) << endl;\n",
      "\n",
      "    return 0;\n",
      "}\n",
      "\n",
      "-----------------------------------------------------\n",
      "\n",
      "\u001b[1mRuby\u001b[0m\n",
      "\n",
      "cube = proc{|x| x ** 3}\n",
      "croot = proc{|x| x ** (1.quo 3)}\n",
      "compose = proc {|f,g| proc {|x| f[g[x]]}}\n",
      "funclist = [Math.method(:sin), Math.method(:cos), cube]\n",
      "invlist = [Math.method(:asin), Math.method(:acos), croot]\n",
      "\n",
      "puts funclist.zip(invlist).map {|f, invf| compose[invf, f][0.5]}\n",
      "\n",
      "-----------------------------------------------------\n",
      "\n",
      "\u001b[1mRust\u001b[0m\n",
      "\n",
      "#![feature(conservative_impl_trait)]\n",
      "fn main() {\n",
      "    let cube      = |x: f64| x.powi(3);\n",
      "    let cube_root = |x: f64| x.powf(1.0 / 3.0);\n",
      "\n",
      "    let flist  : [&Fn(f64) -> f64; 3] = [&cube     , &f64::sin , &f64::cos ];\n",
      "    let invlist: [&Fn(f64) -> f64; 3] = [&cube_root, &f64::asin, &f64::acos];\n",
      "\n",
      "    let result = flist.iter()\n",
      "                      .zip(&invlist)\n",
      "                      .map(|(f,i)| compose(f,i)(0.5))\n",
      "                      .collect::<Vec<_>>();\n",
      "\n",
      "    println!(\"{:?}\", result);\n",
      "\n",
      "}\n",
      "\n",
      "fn compose<'a, F, G, T, U, V>(f: F, g: G) -> impl 'a + Fn(T) -> V\n",
      "    where F: 'a + Fn(T) -> U,\n",
      "          G: 'a + Fn(U) -> V,\n",
      "{\n",
      "    move |x| g(f(x))\n",
      "\n",
      "}\n",
      "\n",
      "-----------------------------------------------------\n",
      "\n",
      "\u001b[1mC\u001b[0m\n",
      "\n",
      "#include <stdio.h>\n",
      "#include <stdlib.h>\n",
      "#include <string.h>\n",
      "#include <math.h>\n",
      "\n",
      "typedef double (*f_dbl)(double);\n",
      "#define TAGF (f_dbl)0xdeadbeef\n",
      "#define TAGG (f_dbl)0xbaddecaf\n",
      "\n",
      "double dummy(double x)\n",
      "{\n",
      "\tf_dbl f = TAGF;\n",
      "\tf_dbl g = TAGG;\n",
      "\treturn f(g(x));\n",
      "}\n",
      "\n",
      "f_dbl composite(f_dbl f, f_dbl g)\n",
      "{\n",
      "\tsize_t len = (void*)composite - (void*)dummy;\n",
      "\tf_dbl ret = malloc(len);\n",
      "\tchar *ptr;\n",
      "\tmemcpy(ret, dummy, len);\n",
      "\tfor (ptr = (char*)ret; ptr < (char*)ret + len - sizeof(f_dbl); ptr++) {\n",
      "\t\tif (*(f_dbl*)ptr == TAGF)      *(f_dbl*)ptr = f;\n",
      "\t\telse if (*(f_dbl*)ptr == TAGG) *(f_dbl*)ptr = g;\n",
      "\t}\n",
      "\treturn ret;\n",
      "}\n",
      "\n",
      "double cube(double x)\n",
      "{\n",
      "\treturn x * x * x;\n",
      "}\n",
      "\n",
      "/* uncomment next line if your math.h doesn't have cbrt() */\n",
      "/* double cbrt(double x) { return pow(x, 1/3.); } */\n",
      "\n",
      "int main()\n",
      "{\n",
      "\tint i;\n",
      "\tdouble x;\n",
      "\n",
      "\tf_dbl A[3] = { cube, exp, sin };\n",
      "\tf_dbl B[3] = { cbrt, log, asin}; /* not sure about availablity of cbrt() */\n",
      "\tf_dbl C[3];\n",
      "\n",
      "\tfor (i = 0; i < 3; i++)\n",
      "\t\tC[i] = composite(A[i], B[i]);\n",
      "\n",
      "\tfor (i = 0; i < 3; i++) {\n",
      "\t\tfor (x = .2; x <= 1; x += .2)\n",
      "\t\t\tprintf(\"C%d(%g) = %g\\n\", i, x, C[i](x));\n",
      "\t\tprintf(\"\\n\");\n",
      "\t}\n",
      "\treturn 0;\n",
      "}\n",
      "\n",
      "-----------------------------------------------------\n",
      "\n",
      "\u001b[1mScala\u001b[0m\n",
      "\n",
      "import math._\n",
      "\n",
      "// functions as values\n",
      "val cube = (x: Double) => x * x * x\n",
      "val cuberoot = (x: Double) => pow(x, 1 / 3d)\n",
      "\n",
      "// higher order function, as a method\n",
      "def compose[A,B,C](f: B => C, g: A => B) = (x: A) => f(g(x))\n",
      "\n",
      "// partially applied functions in Lists\n",
      "val fun = List(sin _, cos _, cube)\n",
      "val inv = List(asin _, acos _, cuberoot)\n",
      "\n",
      "// composing functions from the above Lists\n",
      "val comp = (fun, inv).zipped map (_ compose _)\n",
      "\n",
      "// output results of applying the functions\n",
      "comp foreach {f => print(f(0.5) + \"   \")}\n",
      "\n",
      "-----------------------------------------------------\n",
      "\n",
      "\u001b[1mR\u001b[0m\n",
      "\n",
      "sapply(mapply(compose,f1,f2),do.call,list(.5))\n",
      "\n",
      "-----------------------------------------------------\n",
      "\n",
      "\u001b[1mGo\u001b[0m\n",
      "\n",
      "package main\n",
      "\n",
      "import \"math\"\n",
      "import \"fmt\"\n",
      "\n",
      "// user-defined function, per task.  Other math functions used are built-in.\n",
      "func cube(x float64) float64 { return math.Pow(x, 3) }\n",
      "\n",
      "// ffType and compose function taken from Function composition task\n",
      "type ffType func(float64) float64\n",
      "\n",
      "func compose(f, g ffType) ffType {\n",
      "    return func(x float64) float64 {\n",
      "        return f(g(x))\n",
      "    }\n",
      "}\n",
      "\n",
      "func main() {\n",
      "    // collection A\n",
      "    funclist := []ffType{math.Sin, math.Cos, cube}\n",
      "    // collection B\n",
      "    funclisti := []ffType{math.Asin, math.Acos, math.Cbrt}\n",
      "    for i := 0; i < 3; i++ {\n",
      "        // apply composition and show result\n",
      "        fmt.Println(compose(funclisti[i], funclist[i])(.5))\n",
      "    }\n",
      "}\n",
      "\n",
      "-----------------------------------------------------\n",
      "\n",
      "\u001b[1mMathematica\u001b[0m\n",
      "\n",
      "Composition[f,g,h][x]\n",
      "f@g@h@x\n",
      "x//h//g//f\n",
      "\n",
      "-----------------------------------------------------\n",
      "\n",
      "\u001b[1mKotlin\u001b[0m\n",
      "\n",
      "// version 1.0.6\n",
      "\n",
      "fun compose(f: (Double) -> Double,  g: (Double) -> Double ): (Double) -> Double  = { f(g(it)) }\n",
      "\n",
      "fun cube(d: Double) = d * d * d\n",
      "\n",
      "fun main(args: Array<String>) {\n",
      "    val listA = listOf(Math::sin, Math::cos, ::cube)\n",
      "    val listB = listOf(Math::asin, Math::acos, Math::cbrt)\n",
      "    val x = 0.5\n",
      "    for (i in 0..2) println(compose(listA[i], listB[i])(x))\n",
      "}\n",
      "\n",
      "-----------------------------------------------------\n",
      "\n",
      "\u001b[1mFortran\u001b[0m\n",
      "\n",
      "program Median_Test\n",
      "\n",
      "  real            :: a(7) = (/ 4.1, 5.6, 7.2, 1.7, 9.3, 4.4, 3.2 /), &\n",
      "                     b(6) = (/ 4.1, 7.2, 1.7, 9.3, 4.4, 3.2 /)\n",
      "\n",
      "  print *, median(a)\n",
      "  print *, median(b)\n",
      "\n",
      "contains\n",
      "\n",
      "  function median(a, found)\n",
      "    real, dimension(:), intent(in) :: a\n",
      "      ! the optional found argument can be used to check\n",
      "      ! if the function returned a valid value; we need this\n",
      "      ! just if we suspect our \"vector\" can be \"empty\"\n",
      "    logical, optional, intent(out) :: found\n",
      "    real :: median\n",
      "\n",
      "    integer :: l\n",
      "    real, dimension(size(a,1)) :: ac\n",
      "\n",
      "    if ( size(a,1) < 1 ) then\n",
      "       if ( present(found) ) found = .false.\n",
      "    else\n",
      "       ac = a\n",
      "       ! this is not an intrinsic: peek a sort algo from\n",
      "       ! Category:Sorting, fixing it to work with real if\n",
      "       ! it uses integer instead.\n",
      "       call sort(ac)\n",
      "\n",
      "       l = size(a,1)\n",
      "       if ( mod(l, 2) == 0 ) then\n",
      "          median = (ac(l/2+1) + ac(l/2))/2.0\n",
      "       else\n",
      "          median = ac(l/2+1)\n",
      "       end if\n",
      "\n",
      "       if ( present(found) ) found = .true.\n",
      "    end if\n",
      "\n",
      "  end function median\n",
      "\n",
      "end program Median_Test\n",
      "\n",
      "-----------------------------------------------------\n",
      "\n",
      "\u001b[1mJulia\u001b[0m\n",
      "\n",
      "#!/usr/bin/julia\n",
      "\n",
      "function compose(f::Function, g::Function)\n",
      "  return x -> f(g(x))\n",
      "end\n",
      "\n",
      "value = 0.5\n",
      "for pair in [(sin, asin), (cos, acos), (x -> x^3, x -> x^(1/3))]\n",
      "  func, inverse = pair\n",
      "  println(compose(func, inverse)(value))\n",
      "end\n",
      "\n",
      "-----------------------------------------------------\n",
      "\n",
      "\u001b[1mPHP\u001b[0m\n",
      "\n",
      "$compose = function ($f, $g) {\n",
      "    return function ($x) use ($f, $g) {\n",
      "        return $f($g($x));\n",
      "    };\n",
      "};\n",
      "\n",
      "$fn  = array('sin', 'cos', function ($x) { return pow($x, 3); });\n",
      "$inv = array('asin', 'acos', function ($x) { return pow($x, 1/3); });\n",
      "\n",
      "for ($i = 0; $i < 3; $i++) {\n",
      "    $f = $compose($inv[$i], $fn[$i]);\n",
      "    echo $f(0.5), PHP_EOL;\n",
      "}\n",
      "\n",
      "-----------------------------------------------------\n",
      "\n",
      "\u001b[1mMATLAB\u001b[0m\n",
      "\n",
      "function medianValue = findmedian(setOfValues)\n",
      "   medianValue = median(setOfValues);\n",
      "end\n",
      "\n",
      "-----------------------------------------------------\n",
      "\n",
      "\u001b[1mHaskell\u001b[0m\n",
      "\n",
      "cube :: Floating a => a -> a\n",
      "cube x = x ** 3.0\n",
      "\n",
      "croot :: Floating a => a -> a\n",
      "croot x = x ** (1/3)\n",
      "\n",
      "-- compose already exists in Haskell as the `.` operator\n",
      "-- compose :: (a -> b) -> (b -> c) -> a -> c\n",
      "-- compose f g = \\x -> g (f x)\n",
      "\n",
      "funclist :: Floating a => [a -> a]\n",
      "funclist = [sin,  cos,  cube ]\n",
      "\n",
      "invlist :: Floating a => [a -> a]\n",
      "invlist  = [asin, acos, croot]\n",
      "\n",
      "main :: IO ()\n",
      "main = print $ zipWith (\\f i -> f . i $ 0.5) funclist invlist\n",
      "\n",
      "-----------------------------------------------------\n",
      "\n",
      "\u001b[1mPerl\u001b[0m\n",
      "\n",
      "use Math::Complex ':trig';\n",
      "\n",
      "sub compose {\n",
      "    my ($f, $g) = @_;\n",
      "\n",
      "    sub {\n",
      "        $f -> ($g -> (@_));\n",
      "    };\n",
      "}\n",
      "\n",
      "my $cube  = sub { $_[0] ** (3)   };\n",
      "my $croot = sub { $_[0] ** (1/3) };\n",
      "\n",
      "my @flist1 = ( \\&Math::Complex::sin, \\&Math::Complex::cos, $cube  );\n",
      "my @flist2 = ( \\&asin,               \\&acos,               $croot );\n",
      "\n",
      "print join \"\\n\", map {\n",
      "    compose($flist1[$_], $flist2[$_]) -> (0.5)\n",
      "} 0..2;\n",
      "\n",
      "-----------------------------------------------------\n",
      "\n"
     ]
    }
   ],
   "source": [
    "tmp_df = data.loc[:, [\"language\", \"file_body\"]].drop_duplicates(subset=['language'])\n",
    "for row_no in range(tmp_df.shape[0]):\n",
    "    print('\\033[1m' + tmp_df.iloc[row_no, :][\"language\"] +'\\033[0m' + \"\\n\")\n",
    "    print(tmp_df.iloc[row_no, :][\"file_body\"])\n",
    "    print(\"-----------------------------------------------------\\n\")"
   ]
  },
  {
   "cell_type": "markdown",
   "metadata": {},
   "source": [
    "One insight that we've been given by the preceding code snippets is that their length differ, e.g R in comparison to Java, Mathematica to Fortran. As the relationship between code's lenghth and language might be misrepresented in the cell above let's condsider another variable `code_length`:"
   ]
  },
  {
   "cell_type": "code",
   "execution_count": 25,
   "metadata": {},
   "outputs": [
    {
     "data": {
      "text/html": [
       "<div>\n",
       "<style scoped>\n",
       "    .dataframe tbody tr th:only-of-type {\n",
       "        vertical-align: middle;\n",
       "    }\n",
       "\n",
       "    .dataframe tbody tr th {\n",
       "        vertical-align: top;\n",
       "    }\n",
       "\n",
       "    .dataframe thead th {\n",
       "        text-align: right;\n",
       "    }\n",
       "</style>\n",
       "<table border=\"1\" class=\"dataframe\">\n",
       "  <thead>\n",
       "    <tr style=\"text-align: right;\">\n",
       "      <th></th>\n",
       "      <th>language</th>\n",
       "      <th>proj_id</th>\n",
       "      <th>file_id</th>\n",
       "      <th>file_body</th>\n",
       "      <th>code_length</th>\n",
       "    </tr>\n",
       "  </thead>\n",
       "  <tbody>\n",
       "    <tr>\n",
       "      <th>0</th>\n",
       "      <td>JavaScript</td>\n",
       "      <td>10001</td>\n",
       "      <td>100001</td>\n",
       "      <td>// Functions as values of a variable\\nvar cube...</td>\n",
       "      <td>411</td>\n",
       "    </tr>\n",
       "    <tr>\n",
       "      <th>1</th>\n",
       "      <td>JavaScript</td>\n",
       "      <td>10001</td>\n",
       "      <td>100002</td>\n",
       "      <td>// Functions as values of a variable\\nvar cube...</td>\n",
       "      <td>493</td>\n",
       "    </tr>\n",
       "    <tr>\n",
       "      <th>2</th>\n",
       "      <td>JavaScript</td>\n",
       "      <td>10002</td>\n",
       "      <td>100003</td>\n",
       "      <td>function median(ary) {\\n    if (ary.length == ...</td>\n",
       "      <td>400</td>\n",
       "    </tr>\n",
       "    <tr>\n",
       "      <th>3</th>\n",
       "      <td>JavaScript</td>\n",
       "      <td>10002</td>\n",
       "      <td>100004</td>\n",
       "      <td>[\\n  null,\\n  4,\\n  3.5,\\n  2.1\\n]\\n</td>\n",
       "      <td>30</td>\n",
       "    </tr>\n",
       "    <tr>\n",
       "      <th>4</th>\n",
       "      <td>JavaScript</td>\n",
       "      <td>10002</td>\n",
       "      <td>100005</td>\n",
       "      <td>(() =&gt; {\\n    'use strict';\\n\\n    // median :...</td>\n",
       "      <td>1346</td>\n",
       "    </tr>\n",
       "  </tbody>\n",
       "</table>\n",
       "</div>"
      ],
      "text/plain": [
       "     language  proj_id  file_id  \\\n",
       "0  JavaScript    10001   100001   \n",
       "1  JavaScript    10001   100002   \n",
       "2  JavaScript    10002   100003   \n",
       "3  JavaScript    10002   100004   \n",
       "4  JavaScript    10002   100005   \n",
       "\n",
       "                                           file_body  code_length  \n",
       "0  // Functions as values of a variable\\nvar cube...          411  \n",
       "1  // Functions as values of a variable\\nvar cube...          493  \n",
       "2  function median(ary) {\\n    if (ary.length == ...          400  \n",
       "3               [\\n  null,\\n  4,\\n  3.5,\\n  2.1\\n]\\n           30  \n",
       "4  (() => {\\n    'use strict';\\n\\n    // median :...         1346  "
      ]
     },
     "execution_count": 25,
     "metadata": {},
     "output_type": "execute_result"
    }
   ],
   "source": [
    "data[\"code_length\"] = data[\"file_body\"].apply(len)\n",
    "data.head()"
   ]
  },
  {
   "cell_type": "markdown",
   "metadata": {},
   "source": [
    "Let's look at basic statistics for each language `code_length`-wise, but first general information on the column. "
   ]
  },
  {
   "cell_type": "code",
   "execution_count": 26,
   "metadata": {},
   "outputs": [
    {
     "data": {
      "text/plain": [
       "mean      697.007438\n",
       "std      1116.879086\n",
       "min         2.000000\n",
       "25%       129.000000\n",
       "50%       346.000000\n",
       "75%       831.000000\n",
       "max     30106.000000\n",
       "Name: code_length, dtype: float64"
      ]
     },
     "execution_count": 26,
     "metadata": {},
     "output_type": "execute_result"
    }
   ],
   "source": [
    "data[\"code_length\"].describe()[1:]"
   ]
  },
  {
   "cell_type": "code",
   "execution_count": 27,
   "metadata": {},
   "outputs": [
    {
     "data": {
      "text/html": [
       "<div>\n",
       "<style scoped>\n",
       "    .dataframe tbody tr th:only-of-type {\n",
       "        vertical-align: middle;\n",
       "    }\n",
       "\n",
       "    .dataframe tbody tr th {\n",
       "        vertical-align: top;\n",
       "    }\n",
       "\n",
       "    .dataframe thead tr th {\n",
       "        text-align: left;\n",
       "    }\n",
       "\n",
       "    .dataframe thead tr:last-of-type th {\n",
       "        text-align: right;\n",
       "    }\n",
       "</style>\n",
       "<table border=\"1\" class=\"dataframe\">\n",
       "  <thead>\n",
       "    <tr>\n",
       "      <th></th>\n",
       "      <th colspan=\"8\" halign=\"left\">code_length</th>\n",
       "    </tr>\n",
       "    <tr>\n",
       "      <th></th>\n",
       "      <th>count</th>\n",
       "      <th>mean</th>\n",
       "      <th>std</th>\n",
       "      <th>min</th>\n",
       "      <th>25%</th>\n",
       "      <th>50%</th>\n",
       "      <th>75%</th>\n",
       "      <th>max</th>\n",
       "    </tr>\n",
       "    <tr>\n",
       "      <th>language</th>\n",
       "      <th></th>\n",
       "      <th></th>\n",
       "      <th></th>\n",
       "      <th></th>\n",
       "      <th></th>\n",
       "      <th></th>\n",
       "      <th></th>\n",
       "      <th></th>\n",
       "    </tr>\n",
       "  </thead>\n",
       "  <tbody>\n",
       "    <tr>\n",
       "      <th>C</th>\n",
       "      <td>1078.00</td>\n",
       "      <td>1037.25</td>\n",
       "      <td>1292.45</td>\n",
       "      <td>7.00</td>\n",
       "      <td>254.00</td>\n",
       "      <td>634.00</td>\n",
       "      <td>1303.25</td>\n",
       "      <td>13700.00</td>\n",
       "    </tr>\n",
       "    <tr>\n",
       "      <th>C++</th>\n",
       "      <td>880.00</td>\n",
       "      <td>1047.27</td>\n",
       "      <td>1367.43</td>\n",
       "      <td>7.00</td>\n",
       "      <td>244.00</td>\n",
       "      <td>550.00</td>\n",
       "      <td>1327.25</td>\n",
       "      <td>10579.00</td>\n",
       "    </tr>\n",
       "    <tr>\n",
       "      <th>Fortran</th>\n",
       "      <td>745.00</td>\n",
       "      <td>1281.32</td>\n",
       "      <td>2488.91</td>\n",
       "      <td>6.00</td>\n",
       "      <td>186.00</td>\n",
       "      <td>567.00</td>\n",
       "      <td>1407.00</td>\n",
       "      <td>30106.00</td>\n",
       "    </tr>\n",
       "    <tr>\n",
       "      <th>Go</th>\n",
       "      <td>998.00</td>\n",
       "      <td>992.99</td>\n",
       "      <td>1114.34</td>\n",
       "      <td>5.00</td>\n",
       "      <td>275.00</td>\n",
       "      <td>654.00</td>\n",
       "      <td>1299.50</td>\n",
       "      <td>9465.00</td>\n",
       "    </tr>\n",
       "    <tr>\n",
       "      <th>Haskell</th>\n",
       "      <td>1333.00</td>\n",
       "      <td>576.68</td>\n",
       "      <td>808.62</td>\n",
       "      <td>2.00</td>\n",
       "      <td>128.00</td>\n",
       "      <td>304.00</td>\n",
       "      <td>682.00</td>\n",
       "      <td>8358.00</td>\n",
       "    </tr>\n",
       "    <tr>\n",
       "      <th>Java</th>\n",
       "      <td>987.00</td>\n",
       "      <td>1082.33</td>\n",
       "      <td>1410.97</td>\n",
       "      <td>11.00</td>\n",
       "      <td>245.00</td>\n",
       "      <td>646.00</td>\n",
       "      <td>1369.50</td>\n",
       "      <td>15657.00</td>\n",
       "    </tr>\n",
       "    <tr>\n",
       "      <th>JavaScript</th>\n",
       "      <td>1104.00</td>\n",
       "      <td>689.79</td>\n",
       "      <td>963.89</td>\n",
       "      <td>2.00</td>\n",
       "      <td>119.75</td>\n",
       "      <td>331.50</td>\n",
       "      <td>878.00</td>\n",
       "      <td>13079.00</td>\n",
       "    </tr>\n",
       "    <tr>\n",
       "      <th>Julia</th>\n",
       "      <td>637.00</td>\n",
       "      <td>385.50</td>\n",
       "      <td>453.45</td>\n",
       "      <td>3.00</td>\n",
       "      <td>92.00</td>\n",
       "      <td>231.00</td>\n",
       "      <td>518.00</td>\n",
       "      <td>4932.00</td>\n",
       "    </tr>\n",
       "    <tr>\n",
       "      <th>Kotlin</th>\n",
       "      <td>643.00</td>\n",
       "      <td>917.93</td>\n",
       "      <td>819.14</td>\n",
       "      <td>30.00</td>\n",
       "      <td>351.50</td>\n",
       "      <td>721.00</td>\n",
       "      <td>1210.00</td>\n",
       "      <td>5535.00</td>\n",
       "    </tr>\n",
       "    <tr>\n",
       "      <th>MATLAB</th>\n",
       "      <td>544.00</td>\n",
       "      <td>420.91</td>\n",
       "      <td>1083.45</td>\n",
       "      <td>3.00</td>\n",
       "      <td>68.00</td>\n",
       "      <td>138.50</td>\n",
       "      <td>372.50</td>\n",
       "      <td>15922.00</td>\n",
       "    </tr>\n",
       "    <tr>\n",
       "      <th>Mathematica</th>\n",
       "      <td>926.00</td>\n",
       "      <td>235.98</td>\n",
       "      <td>368.59</td>\n",
       "      <td>2.00</td>\n",
       "      <td>51.00</td>\n",
       "      <td>121.00</td>\n",
       "      <td>271.75</td>\n",
       "      <td>5195.00</td>\n",
       "    </tr>\n",
       "    <tr>\n",
       "      <th>PHP</th>\n",
       "      <td>477.00</td>\n",
       "      <td>480.05</td>\n",
       "      <td>747.40</td>\n",
       "      <td>4.00</td>\n",
       "      <td>97.00</td>\n",
       "      <td>247.00</td>\n",
       "      <td>565.00</td>\n",
       "      <td>7551.00</td>\n",
       "    </tr>\n",
       "    <tr>\n",
       "      <th>Perl</th>\n",
       "      <td>1135.00</td>\n",
       "      <td>456.29</td>\n",
       "      <td>659.14</td>\n",
       "      <td>5.00</td>\n",
       "      <td>103.50</td>\n",
       "      <td>222.00</td>\n",
       "      <td>534.50</td>\n",
       "      <td>8245.00</td>\n",
       "    </tr>\n",
       "    <tr>\n",
       "      <th>Python</th>\n",
       "      <td>1452.00</td>\n",
       "      <td>636.97</td>\n",
       "      <td>1120.03</td>\n",
       "      <td>4.00</td>\n",
       "      <td>134.00</td>\n",
       "      <td>335.00</td>\n",
       "      <td>738.75</td>\n",
       "      <td>27789.00</td>\n",
       "    </tr>\n",
       "    <tr>\n",
       "      <th>R</th>\n",
       "      <td>603.00</td>\n",
       "      <td>332.94</td>\n",
       "      <td>408.57</td>\n",
       "      <td>6.00</td>\n",
       "      <td>64.50</td>\n",
       "      <td>184.00</td>\n",
       "      <td>438.00</td>\n",
       "      <td>3005.00</td>\n",
       "    </tr>\n",
       "    <tr>\n",
       "      <th>Ruby</th>\n",
       "      <td>1104.00</td>\n",
       "      <td>485.90</td>\n",
       "      <td>609.60</td>\n",
       "      <td>11.00</td>\n",
       "      <td>122.00</td>\n",
       "      <td>272.00</td>\n",
       "      <td>602.00</td>\n",
       "      <td>5178.00</td>\n",
       "    </tr>\n",
       "    <tr>\n",
       "      <th>Rust</th>\n",
       "      <td>417.00</td>\n",
       "      <td>799.97</td>\n",
       "      <td>1132.19</td>\n",
       "      <td>12.00</td>\n",
       "      <td>182.00</td>\n",
       "      <td>446.00</td>\n",
       "      <td>895.00</td>\n",
       "      <td>10203.00</td>\n",
       "    </tr>\n",
       "    <tr>\n",
       "      <th>Scala</th>\n",
       "      <td>802.00</td>\n",
       "      <td>638.34</td>\n",
       "      <td>863.54</td>\n",
       "      <td>12.00</td>\n",
       "      <td>159.00</td>\n",
       "      <td>356.00</td>\n",
       "      <td>784.00</td>\n",
       "      <td>9934.00</td>\n",
       "    </tr>\n",
       "    <tr>\n",
       "      <th>Swift</th>\n",
       "      <td>403.00</td>\n",
       "      <td>539.22</td>\n",
       "      <td>845.60</td>\n",
       "      <td>10.00</td>\n",
       "      <td>103.50</td>\n",
       "      <td>252.00</td>\n",
       "      <td>579.00</td>\n",
       "      <td>7067.00</td>\n",
       "    </tr>\n",
       "  </tbody>\n",
       "</table>\n",
       "</div>"
      ],
      "text/plain": [
       "            code_length                                                    \\\n",
       "                  count     mean      std    min     25%     50%      75%   \n",
       "language                                                                    \n",
       "C               1078.00  1037.25  1292.45   7.00  254.00  634.00  1303.25   \n",
       "C++              880.00  1047.27  1367.43   7.00  244.00  550.00  1327.25   \n",
       "Fortran          745.00  1281.32  2488.91   6.00  186.00  567.00  1407.00   \n",
       "Go               998.00   992.99  1114.34   5.00  275.00  654.00  1299.50   \n",
       "Haskell         1333.00   576.68   808.62   2.00  128.00  304.00   682.00   \n",
       "Java             987.00  1082.33  1410.97  11.00  245.00  646.00  1369.50   \n",
       "JavaScript      1104.00   689.79   963.89   2.00  119.75  331.50   878.00   \n",
       "Julia            637.00   385.50   453.45   3.00   92.00  231.00   518.00   \n",
       "Kotlin           643.00   917.93   819.14  30.00  351.50  721.00  1210.00   \n",
       "MATLAB           544.00   420.91  1083.45   3.00   68.00  138.50   372.50   \n",
       "Mathematica      926.00   235.98   368.59   2.00   51.00  121.00   271.75   \n",
       "PHP              477.00   480.05   747.40   4.00   97.00  247.00   565.00   \n",
       "Perl            1135.00   456.29   659.14   5.00  103.50  222.00   534.50   \n",
       "Python          1452.00   636.97  1120.03   4.00  134.00  335.00   738.75   \n",
       "R                603.00   332.94   408.57   6.00   64.50  184.00   438.00   \n",
       "Ruby            1104.00   485.90   609.60  11.00  122.00  272.00   602.00   \n",
       "Rust             417.00   799.97  1132.19  12.00  182.00  446.00   895.00   \n",
       "Scala            802.00   638.34   863.54  12.00  159.00  356.00   784.00   \n",
       "Swift            403.00   539.22   845.60  10.00  103.50  252.00   579.00   \n",
       "\n",
       "                       \n",
       "                  max  \n",
       "language               \n",
       "C            13700.00  \n",
       "C++          10579.00  \n",
       "Fortran      30106.00  \n",
       "Go            9465.00  \n",
       "Haskell       8358.00  \n",
       "Java         15657.00  \n",
       "JavaScript   13079.00  \n",
       "Julia         4932.00  \n",
       "Kotlin        5535.00  \n",
       "MATLAB       15922.00  \n",
       "Mathematica   5195.00  \n",
       "PHP           7551.00  \n",
       "Perl          8245.00  \n",
       "Python       27789.00  \n",
       "R             3005.00  \n",
       "Ruby          5178.00  \n",
       "Rust         10203.00  \n",
       "Scala         9934.00  \n",
       "Swift         7067.00  "
      ]
     },
     "execution_count": 27,
     "metadata": {},
     "output_type": "execute_result"
    }
   ],
   "source": [
    "df_stats = data[[\"language\", \"code_length\"]].groupby([\"language\"]).describe()\n",
    "df_stats.applymap(\"{0:.2f}\".format)"
   ]
  },
  {
   "cell_type": "markdown",
   "metadata": {},
   "source": [
    "As the `count` column doesn't provide any information about the code snippets' structure, it will be dropped. A maze of numbers is not informative enough, so let's look at a heatmap that scales data column-wise. First step is to normalize within columns. There's also the case of the following peculiar column names:"
   ]
  },
  {
   "cell_type": "code",
   "execution_count": 28,
   "metadata": {},
   "outputs": [
    {
     "data": {
      "text/plain": [
       "[('code_length', 'count'),\n",
       " ('code_length', 'mean'),\n",
       " ('code_length', 'std'),\n",
       " ('code_length', 'min'),\n",
       " ('code_length', '25%'),\n",
       " ('code_length', '50%'),\n",
       " ('code_length', '75%'),\n",
       " ('code_length', 'max')]"
      ]
     },
     "execution_count": 28,
     "metadata": {},
     "output_type": "execute_result"
    }
   ],
   "source": [
    "list(df_stats)"
   ]
  },
  {
   "cell_type": "markdown",
   "metadata": {},
   "source": [
    "That's way we need to get to the \"inner\" dataframe:"
   ]
  },
  {
   "cell_type": "code",
   "execution_count": 29,
   "metadata": {},
   "outputs": [
    {
     "data": {
      "text/html": [
       "<div>\n",
       "<style scoped>\n",
       "    .dataframe tbody tr th:only-of-type {\n",
       "        vertical-align: middle;\n",
       "    }\n",
       "\n",
       "    .dataframe tbody tr th {\n",
       "        vertical-align: top;\n",
       "    }\n",
       "\n",
       "    .dataframe thead th {\n",
       "        text-align: right;\n",
       "    }\n",
       "</style>\n",
       "<table border=\"1\" class=\"dataframe\">\n",
       "  <thead>\n",
       "    <tr style=\"text-align: right;\">\n",
       "      <th></th>\n",
       "      <th>count</th>\n",
       "      <th>mean</th>\n",
       "      <th>std</th>\n",
       "      <th>min</th>\n",
       "      <th>25%</th>\n",
       "      <th>50%</th>\n",
       "      <th>75%</th>\n",
       "      <th>max</th>\n",
       "    </tr>\n",
       "    <tr>\n",
       "      <th>language</th>\n",
       "      <th></th>\n",
       "      <th></th>\n",
       "      <th></th>\n",
       "      <th></th>\n",
       "      <th></th>\n",
       "      <th></th>\n",
       "      <th></th>\n",
       "      <th></th>\n",
       "    </tr>\n",
       "  </thead>\n",
       "  <tbody>\n",
       "    <tr>\n",
       "      <th>C</th>\n",
       "      <td>1078.0</td>\n",
       "      <td>1037.247681</td>\n",
       "      <td>1292.446214</td>\n",
       "      <td>7.0</td>\n",
       "      <td>254.0</td>\n",
       "      <td>634.0</td>\n",
       "      <td>1303.25</td>\n",
       "      <td>13700.0</td>\n",
       "    </tr>\n",
       "    <tr>\n",
       "      <th>C++</th>\n",
       "      <td>880.0</td>\n",
       "      <td>1047.269318</td>\n",
       "      <td>1367.425722</td>\n",
       "      <td>7.0</td>\n",
       "      <td>244.0</td>\n",
       "      <td>550.0</td>\n",
       "      <td>1327.25</td>\n",
       "      <td>10579.0</td>\n",
       "    </tr>\n",
       "    <tr>\n",
       "      <th>Fortran</th>\n",
       "      <td>745.0</td>\n",
       "      <td>1281.324832</td>\n",
       "      <td>2488.910274</td>\n",
       "      <td>6.0</td>\n",
       "      <td>186.0</td>\n",
       "      <td>567.0</td>\n",
       "      <td>1407.00</td>\n",
       "      <td>30106.0</td>\n",
       "    </tr>\n",
       "    <tr>\n",
       "      <th>Go</th>\n",
       "      <td>998.0</td>\n",
       "      <td>992.986974</td>\n",
       "      <td>1114.339570</td>\n",
       "      <td>5.0</td>\n",
       "      <td>275.0</td>\n",
       "      <td>654.0</td>\n",
       "      <td>1299.50</td>\n",
       "      <td>9465.0</td>\n",
       "    </tr>\n",
       "    <tr>\n",
       "      <th>Haskell</th>\n",
       "      <td>1333.0</td>\n",
       "      <td>576.682671</td>\n",
       "      <td>808.615098</td>\n",
       "      <td>2.0</td>\n",
       "      <td>128.0</td>\n",
       "      <td>304.0</td>\n",
       "      <td>682.00</td>\n",
       "      <td>8358.0</td>\n",
       "    </tr>\n",
       "  </tbody>\n",
       "</table>\n",
       "</div>"
      ],
      "text/plain": [
       "           count         mean          std  min    25%    50%      75%  \\\n",
       "language                                                                 \n",
       "C         1078.0  1037.247681  1292.446214  7.0  254.0  634.0  1303.25   \n",
       "C++        880.0  1047.269318  1367.425722  7.0  244.0  550.0  1327.25   \n",
       "Fortran    745.0  1281.324832  2488.910274  6.0  186.0  567.0  1407.00   \n",
       "Go         998.0   992.986974  1114.339570  5.0  275.0  654.0  1299.50   \n",
       "Haskell   1333.0   576.682671   808.615098  2.0  128.0  304.0   682.00   \n",
       "\n",
       "              max  \n",
       "language           \n",
       "C         13700.0  \n",
       "C++       10579.0  \n",
       "Fortran   30106.0  \n",
       "Go         9465.0  \n",
       "Haskell    8358.0  "
      ]
     },
     "execution_count": 29,
     "metadata": {},
     "output_type": "execute_result"
    }
   ],
   "source": [
    "df_stats = df_stats.code_length\n",
    "df_stats.head()"
   ]
  },
  {
   "cell_type": "code",
   "execution_count": 30,
   "metadata": {},
   "outputs": [
    {
     "data": {
      "text/html": [
       "<div>\n",
       "<style scoped>\n",
       "    .dataframe tbody tr th:only-of-type {\n",
       "        vertical-align: middle;\n",
       "    }\n",
       "\n",
       "    .dataframe tbody tr th {\n",
       "        vertical-align: top;\n",
       "    }\n",
       "\n",
       "    .dataframe thead th {\n",
       "        text-align: right;\n",
       "    }\n",
       "</style>\n",
       "<table border=\"1\" class=\"dataframe\">\n",
       "  <thead>\n",
       "    <tr style=\"text-align: right;\">\n",
       "      <th></th>\n",
       "      <th>mean</th>\n",
       "      <th>std</th>\n",
       "      <th>min</th>\n",
       "      <th>25%</th>\n",
       "      <th>50%</th>\n",
       "      <th>75%</th>\n",
       "      <th>max</th>\n",
       "    </tr>\n",
       "    <tr>\n",
       "      <th>language</th>\n",
       "      <th></th>\n",
       "      <th></th>\n",
       "      <th></th>\n",
       "      <th></th>\n",
       "      <th></th>\n",
       "      <th></th>\n",
       "      <th></th>\n",
       "    </tr>\n",
       "  </thead>\n",
       "  <tbody>\n",
       "    <tr>\n",
       "      <th>C</th>\n",
       "      <td>0.766510</td>\n",
       "      <td>0.435714</td>\n",
       "      <td>0.178571</td>\n",
       "      <td>0.675541</td>\n",
       "      <td>0.855000</td>\n",
       "      <td>0.908610</td>\n",
       "      <td>0.394635</td>\n",
       "    </tr>\n",
       "    <tr>\n",
       "      <th>C++</th>\n",
       "      <td>0.776097</td>\n",
       "      <td>0.471077</td>\n",
       "      <td>0.178571</td>\n",
       "      <td>0.642263</td>\n",
       "      <td>0.715000</td>\n",
       "      <td>0.929751</td>\n",
       "      <td>0.279473</td>\n",
       "    </tr>\n",
       "    <tr>\n",
       "      <th>Fortran</th>\n",
       "      <td>1.000000</td>\n",
       "      <td>1.000000</td>\n",
       "      <td>0.142857</td>\n",
       "      <td>0.449251</td>\n",
       "      <td>0.743333</td>\n",
       "      <td>1.000000</td>\n",
       "      <td>1.000000</td>\n",
       "    </tr>\n",
       "    <tr>\n",
       "      <th>Go</th>\n",
       "      <td>0.724169</td>\n",
       "      <td>0.351714</td>\n",
       "      <td>0.107143</td>\n",
       "      <td>0.745424</td>\n",
       "      <td>0.888333</td>\n",
       "      <td>0.905307</td>\n",
       "      <td>0.238368</td>\n",
       "    </tr>\n",
       "    <tr>\n",
       "      <th>Haskell</th>\n",
       "      <td>0.325923</td>\n",
       "      <td>0.207526</td>\n",
       "      <td>0.000000</td>\n",
       "      <td>0.256240</td>\n",
       "      <td>0.305000</td>\n",
       "      <td>0.361374</td>\n",
       "      <td>0.197520</td>\n",
       "    </tr>\n",
       "    <tr>\n",
       "      <th>Java</th>\n",
       "      <td>0.809632</td>\n",
       "      <td>0.491615</td>\n",
       "      <td>0.321429</td>\n",
       "      <td>0.645591</td>\n",
       "      <td>0.875000</td>\n",
       "      <td>0.966968</td>\n",
       "      <td>0.466846</td>\n",
       "    </tr>\n",
       "    <tr>\n",
       "      <th>JavaScript</th>\n",
       "      <td>0.434126</td>\n",
       "      <td>0.280760</td>\n",
       "      <td>0.000000</td>\n",
       "      <td>0.228785</td>\n",
       "      <td>0.350833</td>\n",
       "      <td>0.534023</td>\n",
       "      <td>0.371721</td>\n",
       "    </tr>\n",
       "    <tr>\n",
       "      <th>Julia</th>\n",
       "      <td>0.143034</td>\n",
       "      <td>0.040022</td>\n",
       "      <td>0.035714</td>\n",
       "      <td>0.136439</td>\n",
       "      <td>0.183333</td>\n",
       "      <td>0.216913</td>\n",
       "      <td>0.071104</td>\n",
       "    </tr>\n",
       "    <tr>\n",
       "      <th>Kotlin</th>\n",
       "      <td>0.652373</td>\n",
       "      <td>0.212491</td>\n",
       "      <td>1.000000</td>\n",
       "      <td>1.000000</td>\n",
       "      <td>1.000000</td>\n",
       "      <td>0.826470</td>\n",
       "      <td>0.093354</td>\n",
       "    </tr>\n",
       "    <tr>\n",
       "      <th>MATLAB</th>\n",
       "      <td>0.176908</td>\n",
       "      <td>0.337145</td>\n",
       "      <td>0.035714</td>\n",
       "      <td>0.056572</td>\n",
       "      <td>0.029167</td>\n",
       "      <td>0.088747</td>\n",
       "      <td>0.476624</td>\n",
       "    </tr>\n",
       "    <tr>\n",
       "      <th>Mathematica</th>\n",
       "      <td>0.000000</td>\n",
       "      <td>0.000000</td>\n",
       "      <td>0.000000</td>\n",
       "      <td>0.000000</td>\n",
       "      <td>0.000000</td>\n",
       "      <td>0.000000</td>\n",
       "      <td>0.080809</td>\n",
       "    </tr>\n",
       "    <tr>\n",
       "      <th>PHP</th>\n",
       "      <td>0.233487</td>\n",
       "      <td>0.178653</td>\n",
       "      <td>0.071429</td>\n",
       "      <td>0.153078</td>\n",
       "      <td>0.210000</td>\n",
       "      <td>0.258313</td>\n",
       "      <td>0.167743</td>\n",
       "    </tr>\n",
       "    <tr>\n",
       "      <th>Perl</th>\n",
       "      <td>0.210753</td>\n",
       "      <td>0.137032</td>\n",
       "      <td>0.107143</td>\n",
       "      <td>0.174709</td>\n",
       "      <td>0.168333</td>\n",
       "      <td>0.231447</td>\n",
       "      <td>0.193351</td>\n",
       "    </tr>\n",
       "    <tr>\n",
       "      <th>Python</th>\n",
       "      <td>0.383591</td>\n",
       "      <td>0.354399</td>\n",
       "      <td>0.071429</td>\n",
       "      <td>0.276206</td>\n",
       "      <td>0.356667</td>\n",
       "      <td>0.411363</td>\n",
       "      <td>0.914505</td>\n",
       "    </tr>\n",
       "    <tr>\n",
       "      <th>R</th>\n",
       "      <td>0.092752</td>\n",
       "      <td>0.018856</td>\n",
       "      <td>0.142857</td>\n",
       "      <td>0.044925</td>\n",
       "      <td>0.105000</td>\n",
       "      <td>0.146444</td>\n",
       "      <td>0.000000</td>\n",
       "    </tr>\n",
       "    <tr>\n",
       "      <th>Ruby</th>\n",
       "      <td>0.239081</td>\n",
       "      <td>0.113665</td>\n",
       "      <td>0.321429</td>\n",
       "      <td>0.236273</td>\n",
       "      <td>0.251667</td>\n",
       "      <td>0.290905</td>\n",
       "      <td>0.080182</td>\n",
       "    </tr>\n",
       "    <tr>\n",
       "      <th>Rust</th>\n",
       "      <td>0.539524</td>\n",
       "      <td>0.360133</td>\n",
       "      <td>0.357143</td>\n",
       "      <td>0.435940</td>\n",
       "      <td>0.541667</td>\n",
       "      <td>0.548998</td>\n",
       "      <td>0.265599</td>\n",
       "    </tr>\n",
       "    <tr>\n",
       "      <th>Scala</th>\n",
       "      <td>0.384907</td>\n",
       "      <td>0.233431</td>\n",
       "      <td>0.357143</td>\n",
       "      <td>0.359401</td>\n",
       "      <td>0.391667</td>\n",
       "      <td>0.451222</td>\n",
       "      <td>0.255673</td>\n",
       "    </tr>\n",
       "    <tr>\n",
       "      <th>Swift</th>\n",
       "      <td>0.290082</td>\n",
       "      <td>0.224970</td>\n",
       "      <td>0.285714</td>\n",
       "      <td>0.174709</td>\n",
       "      <td>0.218333</td>\n",
       "      <td>0.270645</td>\n",
       "      <td>0.149884</td>\n",
       "    </tr>\n",
       "  </tbody>\n",
       "</table>\n",
       "</div>"
      ],
      "text/plain": [
       "                 mean       std       min       25%       50%       75%  \\\n",
       "language                                                                  \n",
       "C            0.766510  0.435714  0.178571  0.675541  0.855000  0.908610   \n",
       "C++          0.776097  0.471077  0.178571  0.642263  0.715000  0.929751   \n",
       "Fortran      1.000000  1.000000  0.142857  0.449251  0.743333  1.000000   \n",
       "Go           0.724169  0.351714  0.107143  0.745424  0.888333  0.905307   \n",
       "Haskell      0.325923  0.207526  0.000000  0.256240  0.305000  0.361374   \n",
       "Java         0.809632  0.491615  0.321429  0.645591  0.875000  0.966968   \n",
       "JavaScript   0.434126  0.280760  0.000000  0.228785  0.350833  0.534023   \n",
       "Julia        0.143034  0.040022  0.035714  0.136439  0.183333  0.216913   \n",
       "Kotlin       0.652373  0.212491  1.000000  1.000000  1.000000  0.826470   \n",
       "MATLAB       0.176908  0.337145  0.035714  0.056572  0.029167  0.088747   \n",
       "Mathematica  0.000000  0.000000  0.000000  0.000000  0.000000  0.000000   \n",
       "PHP          0.233487  0.178653  0.071429  0.153078  0.210000  0.258313   \n",
       "Perl         0.210753  0.137032  0.107143  0.174709  0.168333  0.231447   \n",
       "Python       0.383591  0.354399  0.071429  0.276206  0.356667  0.411363   \n",
       "R            0.092752  0.018856  0.142857  0.044925  0.105000  0.146444   \n",
       "Ruby         0.239081  0.113665  0.321429  0.236273  0.251667  0.290905   \n",
       "Rust         0.539524  0.360133  0.357143  0.435940  0.541667  0.548998   \n",
       "Scala        0.384907  0.233431  0.357143  0.359401  0.391667  0.451222   \n",
       "Swift        0.290082  0.224970  0.285714  0.174709  0.218333  0.270645   \n",
       "\n",
       "                  max  \n",
       "language               \n",
       "C            0.394635  \n",
       "C++          0.279473  \n",
       "Fortran      1.000000  \n",
       "Go           0.238368  \n",
       "Haskell      0.197520  \n",
       "Java         0.466846  \n",
       "JavaScript   0.371721  \n",
       "Julia        0.071104  \n",
       "Kotlin       0.093354  \n",
       "MATLAB       0.476624  \n",
       "Mathematica  0.080809  \n",
       "PHP          0.167743  \n",
       "Perl         0.193351  \n",
       "Python       0.914505  \n",
       "R            0.000000  \n",
       "Ruby         0.080182  \n",
       "Rust         0.265599  \n",
       "Scala        0.255673  \n",
       "Swift        0.149884  "
      ]
     },
     "execution_count": 30,
     "metadata": {},
     "output_type": "execute_result"
    }
   ],
   "source": [
    "def scaler_min_max(x):\n",
    "    return (x-x.min()) / (x.max() - x.min())\n",
    "\n",
    "df_stats = df_stats.drop([\"count\"], axis=1)\n",
    "norm_df = df_stats.apply(scaler_min_max, axis=0)\n",
    "\n",
    "norm_df"
   ]
  },
  {
   "cell_type": "code",
   "execution_count": 31,
   "metadata": {},
   "outputs": [
    {
     "data": {
      "text/plain": [
       "<matplotlib.axes._subplots.AxesSubplot at 0x7ff4a16bfeb8>"
      ]
     },
     "execution_count": 31,
     "metadata": {},
     "output_type": "execute_result"
    }
   ],
   "source": [
    "import seaborn as sns\n",
    "\n",
    "sns.heatmap(norm_df)"
   ]
  },
  {
   "cell_type": "markdown",
   "metadata": {},
   "source": [
    "To get even more insight we can produce boxplots - one for each language:"
   ]
  },
  {
   "cell_type": "code",
   "execution_count": 32,
   "metadata": {},
   "outputs": [
    {
     "data": {
      "text/plain": [
       "DataTransformerRegistry.enable('json')"
      ]
     },
     "execution_count": 32,
     "metadata": {},
     "output_type": "execute_result"
    }
   ],
   "source": [
    "alt.data_transformers.enable('json') #disables maximum number of rows in altair"
   ]
  },
  {
   "cell_type": "code",
   "execution_count": 33,
   "metadata": {},
   "outputs": [
    {
     "data": {
      "application/vnd.vegalite.v2+json": {
       "$schema": "https://vega.github.io/schema/vega-lite/v2.6.0.json",
       "config": {
        "view": {
         "height": 300,
         "width": 400
        }
       },
       "hconcat": [
        {
         "layer": [
          {
           "data": {
            "format": {
             "type": "json"
            },
            "url": "altair-data-4d82ebd049a84723a47cc922e319fd61.json"
           },
           "encoding": {
            "x": {
             "field": "language",
             "type": "nominal"
            },
            "y": {
             "aggregate": "min",
             "axis": {
              "title": "code length"
             },
             "field": "code_length",
             "type": "quantitative"
            },
            "y2": {
             "aggregate": "q1",
             "field": "code_length",
             "type": "quantitative"
            }
           },
           "mark": "rule"
          },
          {
           "data": {
            "format": {
             "type": "json"
            },
            "url": "altair-data-4d82ebd049a84723a47cc922e319fd61.json"
           },
           "encoding": {
            "x": {
             "field": "language",
             "type": "nominal"
            },
            "y": {
             "aggregate": "q1",
             "field": "code_length",
             "type": "quantitative"
            },
            "y2": {
             "aggregate": "q3",
             "field": "code_length",
             "type": "quantitative"
            }
           },
           "mark": {
            "size": 5,
            "type": "bar"
           }
          },
          {
           "data": {
            "format": {
             "type": "json"
            },
            "url": "altair-data-4d82ebd049a84723a47cc922e319fd61.json"
           },
           "encoding": {
            "x": {
             "field": "language",
             "type": "nominal"
            },
            "y": {
             "aggregate": "max",
             "field": "code_length",
             "type": "quantitative"
            },
            "y2": {
             "aggregate": "q3",
             "field": "code_length",
             "type": "quantitative"
            }
           },
           "mark": "rule"
          },
          {
           "data": {
            "format": {
             "type": "json"
            },
            "url": "altair-data-4d82ebd049a84723a47cc922e319fd61.json"
           },
           "encoding": {
            "x": {
             "field": "language",
             "type": "nominal"
            },
            "y": {
             "aggregate": "median",
             "field": "people",
             "type": "quantitative"
            }
           },
           "mark": {
            "color": "white",
            "size": 5,
            "type": "tick"
           }
          }
         ]
        },
        {
         "layer": [
          {
           "data": {
            "format": {
             "type": "json"
            },
            "url": "altair-data-4d82ebd049a84723a47cc922e319fd61.json"
           },
           "encoding": {
            "x": {
             "field": "language",
             "type": "nominal"
            },
            "y": {
             "aggregate": "q1",
             "field": "code_length",
             "type": "quantitative"
            },
            "y2": {
             "aggregate": "q3",
             "field": "code_length",
             "type": "quantitative"
            }
           },
           "mark": {
            "size": 5,
            "type": "bar"
           }
          },
          {
           "data": {
            "format": {
             "type": "json"
            },
            "url": "altair-data-4d82ebd049a84723a47cc922e319fd61.json"
           },
           "encoding": {
            "x": {
             "field": "language",
             "type": "nominal"
            },
            "y": {
             "aggregate": "median",
             "field": "people",
             "type": "quantitative"
            }
           },
           "mark": {
            "color": "white",
            "size": 5,
            "type": "tick"
           }
          }
         ]
        }
       ]
      },
      "image/png": "[encoded data removed]",
      "text/plain": [
       "<VegaLite 2 object>\n",
       "\n",
       "If you see this message, it means the renderer has not been properly enabled\n",
       "for the frontend that you are using. For more information, see\n",
       "https://altair-viz.github.io/user_guide/troubleshooting.html\n"
      ]
     },
     "execution_count": 33,
     "metadata": {},
     "output_type": "execute_result"
    }
   ],
   "source": [
    "lower_box = 'q1(code_length):Q'\n",
    "lower_whisker = 'min(code_length):Q'\n",
    "upper_box = 'q3(code_length):Q'\n",
    "upper_whisker = 'max(code_length):Q'\n",
    "\n",
    "base = alt.Chart(data)\n",
    "lower_plot = base.mark_rule().encode(\n",
    "    y=alt.Y(lower_whisker, axis=alt.Axis(title=\"code length\")),\n",
    "    y2=lower_box,\n",
    "    x=\"language:N\"\n",
    ")\n",
    "\n",
    "middle_plot = base.mark_bar(size=5.0).encode(\n",
    "    y=lower_box,\n",
    "    y2=upper_box,\n",
    "    x=\"language:N\"\n",
    ")\n",
    "\n",
    "upper_plot = base.mark_rule().encode(\n",
    "    y=upper_whisker,\n",
    "    y2=upper_box,\n",
    "    x=\"language:N\"\n",
    ")\n",
    "\n",
    "middle_tick = base.mark_tick(\n",
    "    color='white',\n",
    "    size=5.0\n",
    ").encode(\n",
    "    y='median(people):Q',\n",
    "    x=\"language:N\"\n",
    ")\n",
    "\n",
    "custom = middle_plot + middle_tick\n",
    "custom.configure_axisY(labels=False)\n",
    "lower_plot + middle_plot + upper_plot + middle_tick | custom"
   ]
  },
  {
   "cell_type": "markdown",
   "metadata": {},
   "source": [
    "Max value of `code_length` greatly distorts the boxplots. On the right, a version of boxplots that covers only points from the first to the third quartiles. By visually inspecting the custom boxplots we can't say that some particular languages' code snippets are short or long. Thus the only way to classify the languages is to use information in `file_body` column, i.e syntax."
   ]
  },
  {
   "cell_type": "markdown",
   "metadata": {},
   "source": [
    "## Training & testing sets"
   ]
  },
  {
   "cell_type": "markdown",
   "metadata": {},
   "source": [
    "Before we move on to building a model, we need to partition the data into a training set and a test set. The former will be used, as the name indicates, for training purposes, finding the connection between a language's syntax and the `language` column. Having trained the model, its accuracy will be evaluated on unseen testing set."
   ]
  },
  {
   "cell_type": "markdown",
   "metadata": {},
   "source": [
    "As the EDA showed, distribution of languages is uneven. Our aim, while creating training and test sets, should be to keep them balanced. In other words, the differences between distribution among the two sets should come from random error, but not from systematic bias. By `y` we denote the dependent variable and by `x` the independent variable (if there were more than one variable we would rather opt fot `X` as in matrix notation)."
   ]
  },
  {
   "cell_type": "code",
   "execution_count": 34,
   "metadata": {},
   "outputs": [
    {
     "name": "stdout",
     "output_type": "stream",
     "text": [
      "0    // Functions as values of a variable\\nvar cube...\n",
      "1    // Functions as values of a variable\\nvar cube...\n",
      "2    function median(ary) {\\n    if (ary.length == ...\n",
      "3                 [\\n  null,\\n  4,\\n  3.5,\\n  2.1\\n]\\n\n",
      "4    (() => {\\n    'use strict';\\n\\n    // median :...\n",
      "Name: file_body, dtype: object\n"
     ]
    },
    {
     "data": {
      "text/plain": [
       "0    JavaScript\n",
       "1    JavaScript\n",
       "2    JavaScript\n",
       "3    JavaScript\n",
       "4    JavaScript\n",
       "Name: language, dtype: object"
      ]
     },
     "execution_count": 34,
     "metadata": {},
     "output_type": "execute_result"
    }
   ],
   "source": [
    "x, y = data['file_body'], data['language']\n",
    "print(x.head())\n",
    "y.head()"
   ]
  },
  {
   "cell_type": "code",
   "execution_count": 35,
   "metadata": {},
   "outputs": [],
   "source": [
    "from sklearn.model_selection import train_test_split\n",
    "\n",
    "x_train, x_test, y_train, y_test = train_test_split(x, y, test_size = 0.3, random_state=0) #70% for training set, 30% for test set"
   ]
  },
  {
   "cell_type": "markdown",
   "metadata": {},
   "source": [
    "The following cell shows the distribution of languages in each set. These are rather similar:"
   ]
  },
  {
   "cell_type": "code",
   "execution_count": 36,
   "metadata": {},
   "outputs": [
    {
     "data": {
      "text/plain": [
       "<matplotlib.axes._subplots.AxesSubplot at 0x7ff4a0545358>"
      ]
     },
     "execution_count": 36,
     "metadata": {},
     "output_type": "execute_result"
    },
    {
     "data": {
      "image/png": "[encoded data removed]",
      "text/plain": [
       "<Figure size 432x288 with 1 Axes>"
      ]
     },
     "metadata": {
      "needs_background": "light"
     },
     "output_type": "display_data"
    }
   ],
   "source": [
    "y_train.value_counts().plot(kind=\"bar\")"
   ]
  },
  {
   "cell_type": "code",
   "execution_count": 37,
   "metadata": {},
   "outputs": [
    {
     "data": {
      "text/plain": [
       "<matplotlib.axes._subplots.AxesSubplot at 0x7ff4a0685be0>"
      ]
     },
     "execution_count": 37,
     "metadata": {},
     "output_type": "execute_result"
    },
    {
     "data": {
      "image/png": "[encoded data removed]",
      "text/plain": [
       "<Figure size 432x288 with 1 Axes>"
      ]
     },
     "metadata": {
      "needs_background": "light"
     },
     "output_type": "display_data"
    }
   ],
   "source": [
    "y_test.value_counts().plot(kind=\"bar\")"
   ]
  },
  {
   "cell_type": "markdown",
   "metadata": {},
   "source": [
    "## Model"
   ]
  },
  {
   "cell_type": "markdown",
   "metadata": {},
   "source": [
    "### N-grams"
   ]
  },
  {
   "cell_type": "code",
   "execution_count": 38,
   "metadata": {},
   "outputs": [],
   "source": [
    "ex_code = data[\"file_body\"][12000]"
   ]
  },
  {
   "cell_type": "markdown",
   "metadata": {},
   "source": [
    "Natural Language Processing uses text-preprocessing technique known as n-grams. The idea is to divide the text into tuples (each of length n). Consider an example:"
   ]
  },
  {
   "cell_type": "code",
   "execution_count": 39,
   "metadata": {},
   "outputs": [],
   "source": [
    "sentence = \"An example.\""
   ]
  },
  {
   "cell_type": "code",
   "execution_count": 40,
   "metadata": {},
   "outputs": [
    {
     "data": {
      "text/plain": [
       "[('A', 'n', ' ', 'e', 'x'),\n",
       " ('n', ' ', 'e', 'x', 'a'),\n",
       " (' ', 'e', 'x', 'a', 'm'),\n",
       " ('e', 'x', 'a', 'm', 'p'),\n",
       " ('x', 'a', 'm', 'p', 'l'),\n",
       " ('a', 'm', 'p', 'l', 'e'),\n",
       " ('m', 'p', 'l', 'e', '.')]"
      ]
     },
     "execution_count": 40,
     "metadata": {},
     "output_type": "execute_result"
    }
   ],
   "source": [
    "from nltk import ngrams\n",
    "list(ngrams(sentence, 5))"
   ]
  },
  {
   "cell_type": "markdown",
   "metadata": {},
   "source": [
    "### Keywords"
   ]
  },
  {
   "cell_type": "markdown",
   "metadata": {},
   "source": [
    "[This](https://github.com/e3b0c442/keywords) webpage presents lists of keywords for most of the languages we consider. I will be using `BeautifulSoup` library in order to scrape the appropriate content:"
   ]
  },
  {
   "cell_type": "code",
   "execution_count": 41,
   "metadata": {},
   "outputs": [],
   "source": [
    "from urllib.request import urlopen #open URLs\n",
    "from bs4 import BeautifulSoup #extract data from HTML\n",
    "\n",
    "url = \"https://github.com/e3b0c442/keywords\"\n",
    "html = urlopen(url)"
   ]
  },
  {
   "cell_type": "code",
   "execution_count": 42,
   "metadata": {},
   "outputs": [
    {
     "data": {
      "text/plain": [
       "bs4.BeautifulSoup"
      ]
     },
     "execution_count": 42,
     "metadata": {},
     "output_type": "execute_result"
    }
   ],
   "source": [
    "soup = BeautifulSoup(html, 'html.parser')\n",
    "type(soup)"
   ]
  },
  {
   "cell_type": "markdown",
   "metadata": {},
   "source": [
    "Keywords are stored in tables. Each of the `<table></table>` is directly the next element (on the same indentation level) to `<h3></h3>`. If an anchor (`<a></a>`) is a direct child of a header then the table must contain keywords:"
   ]
  },
  {
   "cell_type": "code",
   "execution_count": 43,
   "metadata": {},
   "outputs": [
    {
     "name": "stdout",
     "output_type": "stream",
     "text": [
      "('C', '(ANSI)')\n",
      "('C', '(C18)')\n",
      "('C#', '(5.0)')\n",
      "('C++', '(C++17)')\n",
      "('Dart', '(1)')\n",
      "('Elixir', '(1.7)')\n",
      "('Erlang', '(21.2)')\n",
      "('Go', '(1.11)')\n",
      "('JS', '(ES2018)')\n",
      "('Java', '(SE')\n",
      "('Kotlin', '(1.3)')\n",
      "('PHP', '(7.0)')\n",
      "('Python', '(2.7)')\n",
      "('Python', '(3.7)')\n",
      "('R', '(3.5)')\n",
      "('Ruby', '(2.5)')\n",
      "('Rust', '(1.31)')\n",
      "('Scala', '(2.12)')\n",
      "('Swift', '(4.2)')\n"
     ]
    }
   ],
   "source": [
    "import re\n",
    "prog_langs = dict()\n",
    "all_h3 = soup.find_all(\"h3\")\n",
    "for h3 in all_h3:\n",
    "    a_child = h3.findChild(\"a\")\n",
    "    if a_child: #proceed if there is a child \n",
    "        keywords = []\n",
    "        #e.g. there are two versions of C and keys in dict must be unique --> use tuple as key in dict\n",
    "        lang = tuple(h3.get_text().split()[:2])\n",
    "        table = h3.findNext(\"tbody\") #ignore table because it's the parent of tbody\n",
    "        content = table.find_all(\"td\") #cells' content stored in <td></td>\n",
    "        for word in content:\n",
    "            text = word.get_text() #'<td>text</td>'.get_text() \n",
    "            if text: #empty cells are represented by ''\n",
    "                keywords.append(text)\n",
    "        prog_langs[lang] = keywords\n",
    "\n",
    "for key in prog_langs:\n",
    "    print(key)"
   ]
  },
  {
   "cell_type": "markdown",
   "metadata": {},
   "source": [
    "We don't need all the languages that we listed on the webpage. We choose C18 over C ANSI because the former contains more words thant the latter."
   ]
  },
  {
   "cell_type": "code",
   "execution_count": 44,
   "metadata": {},
   "outputs": [],
   "source": [
    "langs = [\"C\", \"C++\", \"Go\", \"Java\", \"JS\", \"Kotlin\", \"PHP\", \"Python\", \"R\", \"Ruby\", \"Rust\", \"Scala\", \"Swift\"]"
   ]
  },
  {
   "cell_type": "code",
   "execution_count": 45,
   "metadata": {},
   "outputs": [
    {
     "data": {
      "text/plain": [
       "dict_keys([('C', '(C18)'), ('C++', '(C++17)'), ('Go', '(1.11)'), ('JS', '(ES2018)'), ('Java', '(SE'), ('Kotlin', '(1.3)'), ('PHP', '(7.0)'), ('Python', '(3.7)'), ('R', '(3.5)'), ('Ruby', '(2.5)'), ('Rust', '(1.31)'), ('Scala', '(2.12)'), ('Swift', '(4.2)')])"
      ]
     },
     "execution_count": 45,
     "metadata": {},
     "output_type": "execute_result"
    }
   ],
   "source": [
    "keys_to_keep = []\n",
    "for key in prog_langs.keys():\n",
    "    if key == ('C', '(ANSI)') or key == ('Python', '(2.7)'):\n",
    "        next\n",
    "    elif key[0] in langs:\n",
    "        keys_to_keep.append(key)\n",
    "\n",
    "for key in list(prog_langs.keys()): #prog.langs().keys() produces iterator --> removing an item from iterator results in RunTimeError --> make a list\n",
    "    if key not in keys_to_keep:\n",
    "        del prog_langs[key]\n",
    "\n",
    "prog_langs.keys()"
   ]
  },
  {
   "cell_type": "code",
   "execution_count": 46,
   "metadata": {},
   "outputs": [],
   "source": [
    "#update keys\n",
    "for key in list(prog_langs.keys()): #avoiding RunTimeError by using list() on keys\n",
    "    prog_langs[key[0]] = prog_langs.pop(key)"
   ]
  },
  {
   "cell_type": "code",
   "execution_count": 47,
   "metadata": {},
   "outputs": [
    {
     "data": {
      "text/plain": [
       "dict_keys(['C', 'C++', 'Go', 'Java', 'Kotlin', 'PHP', 'Python', 'R', 'Ruby', 'Rust', 'Scala', 'Swift', 'Javascript'])"
      ]
     },
     "execution_count": 47,
     "metadata": {},
     "output_type": "execute_result"
    }
   ],
   "source": [
    "#update JS to JavaScript (as in the data)\n",
    "prog_langs[\"Javascript\"] = prog_langs.pop(\"JS\")\n",
    "prog_langs.keys()"
   ]
  },
  {
   "cell_type": "markdown",
   "metadata": {},
   "source": [
    "There are few languages that are missing. The dictionary will be updated based on various web sources."
   ]
  },
  {
   "cell_type": "markdown",
   "metadata": {},
   "source": [
    "#### Fortran"
   ]
  },
  {
   "cell_type": "code",
   "execution_count": 48,
   "metadata": {},
   "outputs": [],
   "source": [
    "url = \"http://fortranwiki.org/fortran/show/Keywords\"\n",
    "html = urlopen(url)"
   ]
  },
  {
   "cell_type": "code",
   "execution_count": 49,
   "metadata": {},
   "outputs": [
    {
     "data": {
      "text/plain": [
       "bs4.BeautifulSoup"
      ]
     },
     "execution_count": 49,
     "metadata": {},
     "output_type": "execute_result"
    }
   ],
   "source": [
    "soup = BeautifulSoup(html, 'html.parser')\n",
    "type(soup)"
   ]
  },
  {
   "cell_type": "code",
   "execution_count": 50,
   "metadata": {},
   "outputs": [
    {
     "data": {
      "text/plain": [
       "<h2 id=\"fortran_77\">FORTRAN 77</h2>"
      ]
     },
     "execution_count": 50,
     "metadata": {},
     "output_type": "execute_result"
    }
   ],
   "source": [
    "soup.find(\"h2\", {\"id\": \"fortran_77\"})"
   ]
  },
  {
   "cell_type": "markdown",
   "metadata": {},
   "source": [
    "We find all `<h2></h2>` headers. We check whether a header has a paragraph underneath. If so, we add text from the paragraph to the list:"
   ]
  },
  {
   "cell_type": "code",
   "execution_count": 51,
   "metadata": {},
   "outputs": [],
   "source": [
    "headers = ['h2']\n",
    "fortran_raw = []\n",
    "for header in soup.findAll(headers): #find all h2 headers in the HTML code\n",
    "    for elem in header.next_siblings:\n",
    "        if elem.name == \"p\" and len(elem.get_text()) > 0:\n",
    "            fortran_raw.append(elem.get_text())"
   ]
  },
  {
   "cell_type": "markdown",
   "metadata": {},
   "source": [
    "The first paragraph need some additional processing:"
   ]
  },
  {
   "cell_type": "code",
   "execution_count": 52,
   "metadata": {},
   "outputs": [
    {
     "data": {
      "text/plain": [
       "'The following keywords were defined in FORTRAN 77: assign, backspace, block data, call, close, common, continue, data, dimension, do, else, else if, end, endfile, endif, entry, equivalence, external, format, function, goto, if, implicit, inquire, intrinsic, open, parameter, pause, print, program, read, return, rewind, rewrite, save, stop, subroutine, then, write.'"
      ]
     },
     "execution_count": 52,
     "metadata": {},
     "output_type": "execute_result"
    }
   ],
   "source": [
    "record = fortran_raw[0]\n",
    "record"
   ]
  },
  {
   "cell_type": "code",
   "execution_count": 53,
   "metadata": {},
   "outputs": [],
   "source": [
    "fortran_raw = fortran_raw[:5] #only the first 5 paragraphs are of interst"
   ]
  },
  {
   "cell_type": "markdown",
   "metadata": {},
   "source": [
    "The `#1` line can be represented as a list of actions:\n",
    "\n",
    "1) `record[record.find(\":\")+1:]` deletes excerpts such as: *\"The following keywords were defined in FORTRAN 77:\"*\n",
    "\n",
    "2) We split the string into list by comas in `split(\",\")` step.\n",
    "\n",
    "3) `x.strip()` strips words from whitespaces.\n",
    "\n",
    "\n",
    "In `#2` we delete full stops from last words.\n",
    "\n",
    "In `#3` we use `extend()` because we want to merge two lists but not by inserting a list at the end  of another list."
   ]
  },
  {
   "cell_type": "code",
   "execution_count": 54,
   "metadata": {},
   "outputs": [],
   "source": [
    "import string\n",
    "fortran_keywords = []\n",
    "for record in fortran_raw:\n",
    "    tmp = [x.strip() for x in record[record.find(\":\")+1:].split(\",\")] #1\n",
    "    last = tmp.pop() #delete and return the last element of a list\n",
    "    last = last[:last.find(\".\")] #2\n",
    "    tmp.append(last)\n",
    "    fortran_keywords.extend(tmp) #3"
   ]
  },
  {
   "cell_type": "code",
   "execution_count": 55,
   "metadata": {},
   "outputs": [],
   "source": [
    "# add Fortran keywords to the dictionary\n",
    "prog_langs[\"Fortran\"] = fortran_keywords"
   ]
  },
  {
   "cell_type": "markdown",
   "metadata": {},
   "source": [
    "#### Haskell"
   ]
  },
  {
   "cell_type": "code",
   "execution_count": 56,
   "metadata": {},
   "outputs": [],
   "source": [
    "haskell_keywords = \\\n",
    "  [\"case\",\"class\",\"data\",\"default\",\"deriving\",\"do\",\"else\",\"forall\"\n",
    "  ,\"if\",\"import\",\"in\",\"infix\",\"infixl\",\"infixr\",\"instance\",\"let\",\"module\"\n",
    "  ,\"newtype\",\"of\",\"qualified\",\"then\",\"type\",\"where\",\"_\"\n",
    "  ,\"foreign\",\"ccall\",\"as\",\"safe\",\"unsafe\"]\n",
    "keyglyphs = \\\n",
    "  [\"..\",\"::\",\"=\",\"\\\\\",\"|\",\"<-\",\"->\",\"@\",\"~\",\"=>\",\"[\",\"]\"]\n",
    "symbols = \\\n",
    "  \"!#$%&*+./<=>?@\\\\^|-~\""
   ]
  },
  {
   "cell_type": "code",
   "execution_count": 57,
   "metadata": {},
   "outputs": [],
   "source": [
    "prog_langs[\"Haskell\"] = haskell_keywords"
   ]
  },
  {
   "cell_type": "markdown",
   "metadata": {},
   "source": [
    "#### Julia"
   ]
  },
  {
   "cell_type": "code",
   "execution_count": 58,
   "metadata": {},
   "outputs": [],
   "source": [
    "keywords_sm = [\"begin\",\"while\",\"if\",\"for\",\"try\",\"return\",\"break\",\"continue\",\"function\",\"macro\",\n",
    "            \"quote\",\"let\",\"local\",\"global\",\"const\",\"do\",\"struct\",\"module\",\"baremodule\",\n",
    "            \"using\",\"import\",\"export\"]"
   ]
  },
  {
   "cell_type": "code",
   "execution_count": 59,
   "metadata": {},
   "outputs": [],
   "source": [
    "url = \"https://discourse.julialang.org/t/julia-reserved-key-words/4781\"\n",
    "html = urlopen(url)\n",
    "soup = BeautifulSoup(html, 'html.parser')"
   ]
  },
  {
   "cell_type": "code",
   "execution_count": 60,
   "metadata": {},
   "outputs": [],
   "source": [
    "julia_keywords = soup.find(\"code\").get_text().split()"
   ]
  },
  {
   "cell_type": "code",
   "execution_count": 61,
   "metadata": {},
   "outputs": [],
   "source": [
    "prog_langs[\"Julia\"] = julia_keywords"
   ]
  },
  {
   "cell_type": "markdown",
   "metadata": {},
   "source": [
    "#### MATLAB"
   ]
  },
  {
   "cell_type": "markdown",
   "metadata": {},
   "source": [
    "The scraped words are in form `\"'word'\"` and we want them to be `\"word\"`. In order to achieve this we use a regular expression that filters out non-alphabet characters:"
   ]
  },
  {
   "cell_type": "code",
   "execution_count": 62,
   "metadata": {},
   "outputs": [],
   "source": [
    "url = \"https://www.mathworks.com/help/matlab/ref/iskeyword.html\"\n",
    "html = urlopen(url)\n",
    "soup = BeautifulSoup(html, 'html.parser')"
   ]
  },
  {
   "cell_type": "code",
   "execution_count": 63,
   "metadata": {},
   "outputs": [
    {
     "name": "stdout",
     "output_type": "stream",
     "text": [
      "['iskeyword', \"'break'\", \"'case'\", \"'catch'\", \"'classdef'\", \"'continue'\", \"'else'\", \"'elseif'\", \"'end'\", \"'for'\", \"'function'\", \"'global'\", \"'if'\", \"'otherwise'\", \"'parfor'\", \"'persistent'\", \"'return'\", \"'spmd'\", \"'switch'\", \"'try'\", \"'while'\"]\n"
     ]
    }
   ],
   "source": [
    "import re\n",
    "\n",
    "raw_ticks = soup.find_all(\"pre\", {\"class\": \"programlisting\"})[1].get_text().split()\n",
    "print(raw_ticks)\n",
    "\n",
    "regex = re.compile('[^a-zA-Z]')\n",
    "MATLAB_keywords = [regex.sub(\"\", raw_word) for raw_word in raw_ticks]\n",
    "MATLAB_keywords = MATLAB_keywords[1:] #the first entry is iskeyword() function"
   ]
  },
  {
   "cell_type": "code",
   "execution_count": 64,
   "metadata": {},
   "outputs": [],
   "source": [
    "prog_langs['MATLAB'] = MATLAB_keywords"
   ]
  },
  {
   "cell_type": "markdown",
   "metadata": {},
   "source": [
    "#### Mathematica"
   ]
  },
  {
   "cell_type": "code",
   "execution_count": 65,
   "metadata": {},
   "outputs": [],
   "source": [
    "prog_langs[\"Mathematica\"] = [] #couldn't find keywords"
   ]
  },
  {
   "cell_type": "markdown",
   "metadata": {},
   "source": [
    "#### PERL"
   ]
  },
  {
   "cell_type": "code",
   "execution_count": 66,
   "metadata": {},
   "outputs": [],
   "source": [
    "url = \"https://learn.perl.org/docs/keywords.html\"\n",
    "html = urlopen(url)\n",
    "soup = BeautifulSoup(html, 'html.parser')"
   ]
  },
  {
   "cell_type": "code",
   "execution_count": 67,
   "metadata": {},
   "outputs": [],
   "source": [
    "tds = soup.find_all(\"td\")\n",
    "Perl_keywords = [td.get_text() for td in tds if len(td.get_text()) > 0]"
   ]
  },
  {
   "cell_type": "code",
   "execution_count": 68,
   "metadata": {},
   "outputs": [],
   "source": [
    "prog_langs[\"Perl\"] = Perl_keywords"
   ]
  },
  {
   "cell_type": "code",
   "execution_count": 69,
   "metadata": {},
   "outputs": [
    {
     "data": {
      "text/plain": [
       "19"
      ]
     },
     "execution_count": 69,
     "metadata": {},
     "output_type": "execute_result"
    }
   ],
   "source": [
    "len(list(prog_langs.keys())) #sanity check (must be equal number of languages in EDA)"
   ]
  },
  {
   "cell_type": "markdown",
   "metadata": {},
   "source": [
    "In order to make replicating this analysis easier I decided to store keywords dictionary in an external file that can be loaded if structure of any of the scraped websites is altered. The `dict.json` file will be stored in the project's directory:"
   ]
  },
  {
   "cell_type": "code",
   "execution_count": 70,
   "metadata": {},
   "outputs": [],
   "source": [
    "import json\n",
    "\n",
    "with open(\"dict.json\", 'w') as fp:\n",
    "    json.dump(prog_langs, fp, sort_keys=True, indent=4)"
   ]
  },
  {
   "cell_type": "markdown",
   "metadata": {},
   "source": [
    "The file can be loaded as follows:"
   ]
  },
  {
   "cell_type": "code",
   "execution_count": 71,
   "metadata": {},
   "outputs": [],
   "source": [
    "# with open('dict.json', 'r') as fp:\n",
    "#     test = json.load(fp)"
   ]
  },
  {
   "cell_type": "markdown",
   "metadata": {},
   "source": [
    "This approach is based on Bayes theorem:"
   ]
  },
  {
   "cell_type": "markdown",
   "metadata": {},
   "source": [
    "$$ P(A \\mid B) = \\frac{P(B \\mid A) \\, P(A)}{P(B)} $$"
   ]
  },
  {
   "cell_type": "markdown",
   "metadata": {},
   "source": [
    "where $P(A \\mid B)$ is a conditional probability that A happens given that B is true. $P(B \\mid A)$ denotes B happening if A is true. $P(A)$ and $P(B)$ are probabilities that A and B will happen, respectively."
   ]
  },
  {
   "cell_type": "markdown",
   "metadata": {},
   "source": [
    "The intuition behind Bayes theorem is to, before we begin any experiment, to decide on the value of prior probability (our intuition) - $P(A) $ - and then, as the data comes in, to update the posterior probability (our intuition updated with data) - $P(A \\mid B)$. "
   ]
  },
  {
   "cell_type": "markdown",
   "metadata": {},
   "source": [
    "The input to the algorithm must be a matrix which consists of words' count data or frequency. Let's start with counting words. The immediate problem that we stumble upon is the fact that code snippet's syntax is not an example of natural language but a synthethic array of words. A strategy to separate 'words' must be devised."
   ]
  },
  {
   "cell_type": "markdown",
   "metadata": {},
   "source": [
    "The intuitive way in which to proceed when analyzing natural language is to lemmatize and tokenize the text, delete punctuation and stopwords. In case of programming syntax we should focus on keeping keywords of programming languages e.g. `import`, `from` in Python, `println` in Java or `include` in C++. All other information such as names of variables, numbers, escape sequences should be deleted in the preprocessing stage. One aspect of preprocessing deserves special attention. Should we delete `\\t` that is indicative of scripting languages such as Ruby or Python? I would argue yes, because all other languages (even if it's not required by the compiler) are written with some kind of indendation standard. "
   ]
  },
  {
   "cell_type": "markdown",
   "metadata": {},
   "source": [
    "A separate paragraph should be dedicated to comments. At first sight it seems logical to delete them as they do not pertain to programming language syntax. However, comments are indicated differently in differently languages. Let's take Python and C++ for instance: `#` in Python indicates a one line comment and in C++ it precedes a keyword `include`. While looking at a code snippet of yet unknown language the algorithm won't be able to correctly delete the comment. This is why comments stay - I hope that comment/code ratio is low enough so that comments do not distort the keywords as proxy for programming language."
   ]
  },
  {
   "cell_type": "markdown",
   "metadata": {},
   "source": [
    "The following regex will help us to extract appropriate content from code snippets. As it is an adhoc solution results are not perfect:"
   ]
  },
  {
   "cell_type": "code",
   "execution_count": 72,
   "metadata": {},
   "outputs": [
    {
     "name": "stdout",
     "output_type": "stream",
     "text": [
      "// version 1.1.2\n",
      "\n",
      "import java.awt.MouseInfo\n",
      "\n",
      "fun main(args: Array<String>) {\n",
      "    (1..5).forEach {\n",
      "        Thread.sleep(1000)\n",
      "        val p = MouseInfo.getPointerInfo().location  // gets screen coordinates\n",
      "        println(\"${it}: x = ${\"%-4d\".format(p.x)} y = ${\"%-4d\".format(p.y)}\")\n",
      "    }\n",
      "}\n",
      "\n",
      "// version 1.1.2  import java.awt.MouseInfo  fun main args: Array<String>         1..5 .forEach           Thread.sleep 1000          val p = MouseInfo.getPointerInfo  .location  // gets screen coordinates         println    it : x =      4d .format p.x   y =      4d .format p.y             \n"
     ]
    }
   ],
   "source": [
    "x_train_list = x_train.tolist() #list of training set code snippets\n",
    "text = x_train_list[1210]\n",
    "print(text)\n",
    "\n",
    "import re\n",
    "pattern = re.compile(r'[^a-zA-Z#++.-_]')\n",
    "\n",
    "clean_text = re.sub(pattern, \" \", text)\n",
    "print(clean_text)"
   ]
  },
  {
   "cell_type": "code",
   "execution_count": 73,
   "metadata": {},
   "outputs": [
    {
     "data": {
      "text/plain": [
       "['Haskell', 'Haskell', 'MATLAB', 'Kotlin', 'Python']"
      ]
     },
     "execution_count": 73,
     "metadata": {},
     "output_type": "execute_result"
    }
   ],
   "source": [
    "y = y_train.tolist() #labels\n",
    "y[:5]"
   ]
  },
  {
   "cell_type": "markdown",
   "metadata": {},
   "source": [
    "Let's creata a matrix that in rows stores the indices of training set examples and in columns features, i.e. extracted words:"
   ]
  },
  {
   "cell_type": "code",
   "execution_count": 74,
   "metadata": {},
   "outputs": [],
   "source": [
    "from sklearn.feature_extraction.text import TfidfVectorizer\n",
    "\n",
    "count_vect = TfidfVectorizer(input=\"content\", #sequnce string instead of files or filenames\n",
    "                             stop_words = {'english'}, #delete English stopwords\n",
    "                             lowercase=False, #\"Data\" and \"data\" two different words\n",
    "                             analyzer ='word' #features made out of words\n",
    "                            )"
   ]
  },
  {
   "cell_type": "code",
   "execution_count": 75,
   "metadata": {},
   "outputs": [],
   "source": [
    "X_train_counts = count_vect.fit_transform(x_train_list)"
   ]
  },
  {
   "cell_type": "code",
   "execution_count": 76,
   "metadata": {},
   "outputs": [
    {
     "data": {
      "text/plain": [
       "(11387, 47191)"
      ]
     },
     "execution_count": 76,
     "metadata": {},
     "output_type": "execute_result"
    }
   ],
   "source": [
    "X_train_counts.shape"
   ]
  },
  {
   "cell_type": "markdown",
   "metadata": {},
   "source": [
    "We get frequency of all features, e.g.:"
   ]
  },
  {
   "cell_type": "code",
   "execution_count": 77,
   "metadata": {},
   "outputs": [
    {
     "data": {
      "text/plain": [
       "('import', 29140)"
      ]
     },
     "execution_count": 77,
     "metadata": {},
     "output_type": "execute_result"
    }
   ],
   "source": [
    "ls_dict = list(count_vect.vocabulary_)\n",
    "(ls_dict[0], count_vect.vocabulary_[ls_dict[0]])"
   ]
  },
  {
   "cell_type": "markdown",
   "metadata": {},
   "source": [
    "Now we transform a count matrix to a term-frequency times inverse document-frequency form. The rationale behind this step is to make frequent words that occur throughout training set (corpus) less important and in turn to prioritize those that occur frequently but only in small fraction of groups."
   ]
  },
  {
   "cell_type": "code",
   "execution_count": 78,
   "metadata": {},
   "outputs": [
    {
     "data": {
      "text/plain": [
       "(11387, 47191)"
      ]
     },
     "execution_count": 78,
     "metadata": {},
     "output_type": "execute_result"
    }
   ],
   "source": [
    "from sklearn.feature_extraction.text import TfidfTransformer\n",
    "\n",
    "tfidf_transformer = TfidfTransformer()\n",
    "X_train_tfidf = tfidf_transformer.fit_transform(X_train_counts)\n",
    "X_train_tfidf.shape"
   ]
  },
  {
   "cell_type": "markdown",
   "metadata": {},
   "source": [
    "#### Model creation"
   ]
  },
  {
   "cell_type": "markdown",
   "metadata": {},
   "source": [
    "We use multinomial Naive Bayes which description can be found [here](https://scikit-learn.org/stable/modules/naive_bayes.html#multinomial-naive-bayes)."
   ]
  },
  {
   "cell_type": "code",
   "execution_count": 79,
   "metadata": {},
   "outputs": [],
   "source": [
    "from sklearn.naive_bayes import MultinomialNB\n",
    "\n",
    "clf = MultinomialNB().fit(X_train_tfidf, y)"
   ]
  },
  {
   "cell_type": "markdown",
   "metadata": {},
   "source": [
    "Test set transformation to TFIDF. We don't create a new `TfidfVectorizer` object because the `count_vect` has been already transformed in such a way it contains training data (note that we're using `transform` method):"
   ]
  },
  {
   "cell_type": "code",
   "execution_count": 80,
   "metadata": {},
   "outputs": [],
   "source": [
    "X_new_counts = count_vect.transform(x_test.tolist()) #count data for test set\n",
    "X_new_tfidf = tfidf_transformer.transform(X_new_counts) #tfidf for test set\n",
    "\n",
    "predicted = clf.predict(X_new_tfidf) #list of predictions"
   ]
  },
  {
   "cell_type": "markdown",
   "metadata": {},
   "source": [
    "### Confusion matrix"
   ]
  },
  {
   "cell_type": "markdown",
   "metadata": {},
   "source": [
    "Let's check if the model classified test set instances well enough. Firstly, a look at metrics:"
   ]
  },
  {
   "cell_type": "code",
   "execution_count": 81,
   "metadata": {},
   "outputs": [],
   "source": [
    "from sklearn.metrics import precision_recall_fscore_support\n",
    "from sklearn.metrics import f1_score\n",
    "from sklearn.metrics import accuracy_score"
   ]
  },
  {
   "cell_type": "code",
   "execution_count": 82,
   "metadata": {},
   "outputs": [
    {
     "name": "stdout",
     "output_type": "stream",
     "text": [
      "(0.8288922203716531, 0.719319811514034, 0.7122733768200556, None)\n"
     ]
    }
   ],
   "source": [
    "print(precision_recall_fscore_support(y_test, predicted, average=\"weighted\"))"
   ]
  },
  {
   "cell_type": "code",
   "execution_count": 83,
   "metadata": {},
   "outputs": [
    {
     "name": "stdout",
     "output_type": "stream",
     "text": [
      "0.7122733768200556\n"
     ]
    }
   ],
   "source": [
    "print(f1_score(y_test, predicted, average=\"weighted\"))"
   ]
  },
  {
   "cell_type": "code",
   "execution_count": 84,
   "metadata": {},
   "outputs": [
    {
     "name": "stdout",
     "output_type": "stream",
     "text": [
      "0.719319811514034\n"
     ]
    }
   ],
   "source": [
    "print(accuracy_score(y_test, predicted))"
   ]
  },
  {
   "cell_type": "code",
   "execution_count": 85,
   "metadata": {},
   "outputs": [],
   "source": [
    "from sklearn.metrics import confusion_matrix\n",
    "\n",
    "cm = confusion_matrix(y_test, predicted, labels=data['language'].unique())"
   ]
  },
  {
   "cell_type": "code",
   "execution_count": 86,
   "metadata": {},
   "outputs": [],
   "source": [
    "# taken from https://github.com/Kamel773/SourceCodeClassification/blob/master/confusionMatrix.py\n",
    "\n",
    "import seaborn as sns\n",
    "import matplotlib.pyplot as plt\n",
    "import itertools\n",
    "import numpy as np\n",
    "\n",
    "def plot_confusion_matrix2(cm, classes,\n",
    "                          normalize=False,\n",
    "                          title='Confusion matrix',\n",
    "                          cmap=plt.cm.Blues):\n",
    "    \"\"\"\n",
    "    This function prints and plots the confusion matrix.\n",
    "    Normalization can be applied by setting `normalize=True`.\n",
    "    \"\"\"\n",
    "    if normalize:\n",
    "        cm = cm.astype('float') / cm.sum(axis=1)[:, np.newaxis]\n",
    "        print(\"Normalized confusion matrix\")\n",
    "    else:\n",
    "        print('Confusion matrix, without normalization')\n",
    "\n",
    "    sns.set(font_scale=1.1)\n",
    "    sns.set_style(\"dark\")\n",
    "    sns.set_style(\"white\",{\"xtick.major.size\": 10})\n",
    "    plt.figure(figsize=(14,14))\n",
    "    plt.imshow(cm, interpolation='nearest', cmap=cmap)\n",
    "    plt.title(title,weight='bold').set_fontsize('22')\n",
    "    plt.colorbar()\n",
    "    tick_marks = np.arange(len(classes))\n",
    "    plt.xticks(tick_marks, classes, rotation=90)\n",
    "    plt.yticks(tick_marks, classes)\n",
    "\n",
    "    fmt = '.2f' if normalize else 'd'\n",
    "    thresh = cm.max() / 2.\n",
    "    for i, j in itertools.product(range(cm.shape[0]), range(cm.shape[1])):\n",
    "        plt.text(j, i, format(cm[i, j], fmt),\n",
    "            horizontalalignment=\"center\",\n",
    "            color=\"white\" if cm[i, j] > thresh else \"black\")\n",
    "\n",
    "    plt.tight_layout()\n",
    "    plt.gcf().subplots_adjust(bottom=0.05,left=0.15)\n",
    "    plt.ylabel('True label',weight='bold').set_fontsize('16')\n",
    "    plt.xlabel('Predicted Label',weight='bold').set_fontsize('16')\n",
    "    plt.xticks(weight='bold',size=16)\n",
    "    plt.yticks(weight='bold',size=16)\n",
    "    #plt.ylabel(r'\\textbf{Y-AXIS}', fontsize=20)\n",
    "    #plt.xlabel(r'\\textbf{X-AXIS}', fontsize=20)\n",
    "    #plt.savefig(\"ConfusionMatrixAlgorithmia21.png\", dpi=300)"
   ]
  },
  {
   "cell_type": "code",
   "execution_count": 87,
   "metadata": {},
   "outputs": [
    {
     "name": "stdout",
     "output_type": "stream",
     "text": [
      "Confusion matrix, without normalization\n"
     ]
    },
    {
     "data": {
      "image/png": "[encoded data removed]",
      "text/plain": [
       "<Figure size 1008x1008 with 2 Axes>"
      ]
     },
     "metadata": {},
     "output_type": "display_data"
    }
   ],
   "source": [
    "plot_confusion_matrix2(cm, classes=data[\"language\"].unique())"
   ]
  },
  {
   "cell_type": "markdown",
   "metadata": {},
   "source": [
    "Multinomial Naive Bayes operates based on alpha parameter, which we can optimize for. There is `class_prior` argument which by default uses prior probabilities based on training set. `fit_prior` set to `True` ensures that the model learns prior probabilities from data. We could use cross-validation in order to choose the optimal value of alpha parameter:"
   ]
  },
  {
   "cell_type": "code",
   "execution_count": 88,
   "metadata": {},
   "outputs": [
    {
     "data": {
      "text/plain": [
       "{'alpha': 1.0, 'class_prior': None, 'fit_prior': True}"
      ]
     },
     "execution_count": 88,
     "metadata": {},
     "output_type": "execute_result"
    }
   ],
   "source": [
    "clf.get_params()"
   ]
  },
  {
   "cell_type": "code",
   "execution_count": 89,
   "metadata": {},
   "outputs": [
    {
     "data": {
      "text/plain": [
       "array([0. , 0.2, 0.4, 0.6, 0.8, 1. ])"
      ]
     },
     "execution_count": 89,
     "metadata": {},
     "output_type": "execute_result"
    }
   ],
   "source": [
    "import numpy as np\n",
    "np.arange(0, 1.01, 0.2)"
   ]
  },
  {
   "cell_type": "code",
   "execution_count": 90,
   "metadata": {},
   "outputs": [],
   "source": [
    "param_grid = [\n",
    "    {\"alpha\": np.arange(10e-1, 1.01, 0.2)}\n",
    "]"
   ]
  },
  {
   "cell_type": "code",
   "execution_count": 91,
   "metadata": {},
   "outputs": [
    {
     "data": {
      "text/plain": [
       "GridSearchCV(cv=5, error_score='raise',\n",
       "       estimator=MultinomialNB(alpha=1.0, class_prior=None, fit_prior=True),\n",
       "       fit_params=None, iid=True, n_jobs=1,\n",
       "       param_grid=[{'alpha': array([1.])}], pre_dispatch='2*n_jobs',\n",
       "       refit=True, return_train_score='warn', scoring=None, verbose=0)"
      ]
     },
     "execution_count": 91,
     "metadata": {},
     "output_type": "execute_result"
    }
   ],
   "source": [
    "from sklearn.model_selection import GridSearchCV\n",
    "\n",
    "grid_search = GridSearchCV(clf, param_grid, cv=5)\n",
    "grid_search.fit(X_train_tfidf, y)"
   ]
  },
  {
   "cell_type": "code",
   "execution_count": 92,
   "metadata": {},
   "outputs": [
    {
     "data": {
      "text/plain": [
       "[{'alpha': 1.0}]"
      ]
     },
     "execution_count": 92,
     "metadata": {},
     "output_type": "execute_result"
    }
   ],
   "source": [
    "#sorted(grid_search.cv_results_.keys())\n",
    "grid_search.cv_results_['params']"
   ]
  },
  {
   "cell_type": "markdown",
   "metadata": {},
   "source": [
    "### Problems & next steps"
   ]
  },
  {
   "cell_type": "markdown",
   "metadata": {},
   "source": [
    "1) Try Complement Naive Bayes ([implementation](https://scikit-learn.org/stable/modules/generated/sklearn.naive_bayes.ComplementNB.html#sklearn.naive_bayes.ComplementNB)).\n",
    "\n",
    "2) Craft a more accurate regex used to separate keywords from noise. Ideally, we would be able to use scraped keywords.\n",
    "\n",
    "3) Use a LSTM model.\n",
    "\n",
    "4) Use n-grams.\n",
    "\n",
    "5) Read papers that consider a similar problem as ours.\n",
    "\n",
    "6) Solve misbalanced data problem - languages are misclassfied as Python (the most frequent language in the dataset).\n",
    "\n",
    "7) Find Mathematica keywords."
   ]
  }
 ],
 "metadata": {
  "kernelspec": {
   "display_name": "Python 3",
   "language": "python",
   "name": "python3"
  },
  "language_info": {
   "codemirror_mode": {
    "name": "ipython",
    "version": 3
   },
   "file_extension": ".py",
   "mimetype": "text/x-python",
   "name": "python",
   "nbconvert_exporter": "python",
   "pygments_lexer": "ipython3",
   "version": "3.6.6"
  }
 },
 "nbformat": 4,
 "nbformat_minor": 2
}
